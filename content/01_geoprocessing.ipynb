{
 "cells": [
  {
   "cell_type": "markdown",
   "metadata": {},
   "source": [
    "# Geoprocessing\n",
    "\n",
    "Spatial data comes in a rich variety of forms and corresponding file formats. At the beginning of most geocomputational workflows, one is typically reading these different formats and applying different forms of spatial data processing (or geoprocessing) methods to the data.\n",
    "\n",
    "In this notebook we cover a subset of geoprocessing methods:\n",
    "\n",
    "- Reading geopackages and shapefiles\n",
    "- Coordinate reference system transformations\n",
    "- Spatial joins\n",
    "- Spatial aggregations\n",
    "\n",
    "Along the way we introduce the package [geopandas](https://geopandas.org) which provides key spatial data processing functionality."
   ]
  },
  {
   "cell_type": "markdown",
   "metadata": {},
   "source": [
    "~~## Reading GeoPackages~~\n",
    "\n",
    "~~We begin with our first dataset that contains socieconomic data for census tracts in Southern California. The data are for the census year 2010 and are provided from the package [GeoSNAP](https://github.com/spatialucr/geosnap) as a **GeoPackage**.~~\n",
    "\n",
    "## GeoParquet\n",
    "\n",
    "**dont use legacy file formats :)**"
   ]
  },
  {
   "cell_type": "markdown",
   "metadata": {},
   "source": [
    "Geoparquet is a new(ish)  file format based on apache arrow. It is extremely performant for spatial data in both read/write speeds and on-disk storage\n",
    "\n",
    "We will use **geopandas** to read the GeoPackage for our data:\n"
   ]
  },
  {
   "cell_type": "code",
   "execution_count": null,
   "metadata": {
    "execution": {
     "iopub.execute_input": "2023-10-06T23:12:51.654770Z",
     "iopub.status.busy": "2023-10-06T23:12:51.654438Z",
     "iopub.status.idle": "2023-10-06T23:12:51.960587Z",
     "shell.execute_reply": "2023-10-06T23:12:51.960262Z",
     "shell.execute_reply.started": "2023-10-06T23:12:51.654748Z"
    },
    "tags": []
   },
   "outputs": [],
   "source": [
    "import geopandas as gpd"
   ]
  },
  {
   "cell_type": "code",
   "execution_count": null,
   "metadata": {
    "execution": {
     "iopub.execute_input": "2023-10-06T23:12:51.961614Z",
     "iopub.status.busy": "2023-10-06T23:12:51.961499Z",
     "iopub.status.idle": "2023-10-06T23:12:52.009998Z",
     "shell.execute_reply": "2023-10-06T23:12:52.009727Z",
     "shell.execute_reply.started": "2023-10-06T23:12:51.961605Z"
    },
    "tags": []
   },
   "outputs": [],
   "source": [
    "socal = gpd.read_parquet(\"data/scag_region.parquet\") "
   ]
  },
  {
   "cell_type": "code",
   "execution_count": null,
   "metadata": {
    "execution": {
     "iopub.execute_input": "2023-10-06T23:12:52.010500Z",
     "iopub.status.busy": "2023-10-06T23:12:52.010418Z",
     "iopub.status.idle": "2023-10-06T23:12:52.015474Z",
     "shell.execute_reply": "2023-10-06T23:12:52.015195Z",
     "shell.execute_reply.started": "2023-10-06T23:12:52.010491Z"
    },
    "tags": []
   },
   "outputs": [],
   "source": [
    "type(socal)"
   ]
  },
  {
   "cell_type": "code",
   "execution_count": null,
   "metadata": {
    "execution": {
     "iopub.execute_input": "2023-10-06T23:12:52.015876Z",
     "iopub.status.busy": "2023-10-06T23:12:52.015793Z",
     "iopub.status.idle": "2023-10-06T23:12:52.020297Z",
     "shell.execute_reply": "2023-10-06T23:12:52.019749Z",
     "shell.execute_reply.started": "2023-10-06T23:12:52.015867Z"
    },
    "tags": []
   },
   "outputs": [],
   "source": [
    "socal.columns"
   ]
  },
  {
   "cell_type": "code",
   "execution_count": null,
   "metadata": {
    "execution": {
     "iopub.execute_input": "2023-10-06T23:12:52.020898Z",
     "iopub.status.busy": "2023-10-06T23:12:52.020797Z",
     "iopub.status.idle": "2023-10-06T23:12:52.038530Z",
     "shell.execute_reply": "2023-10-06T23:12:52.038142Z",
     "shell.execute_reply.started": "2023-10-06T23:12:52.020887Z"
    },
    "tags": []
   },
   "outputs": [],
   "source": [
    "socal.head()"
   ]
  },
  {
   "cell_type": "code",
   "execution_count": null,
   "metadata": {
    "execution": {
     "iopub.execute_input": "2023-10-06T23:12:52.039229Z",
     "iopub.status.busy": "2023-10-06T23:12:52.039140Z",
     "iopub.status.idle": "2023-10-06T23:12:52.041689Z",
     "shell.execute_reply": "2023-10-06T23:12:52.041391Z",
     "shell.execute_reply.started": "2023-10-06T23:12:52.039219Z"
    },
    "tags": []
   },
   "outputs": [],
   "source": [
    "socal.shape "
   ]
  },
  {
   "cell_type": "markdown",
   "metadata": {},
   "source": [
    "This tells us there are 4580 census tracts and 194 attributes measured for each tract."
   ]
  },
  {
   "cell_type": "code",
   "execution_count": null,
   "metadata": {
    "execution": {
     "iopub.execute_input": "2023-10-06T23:12:52.044396Z",
     "iopub.status.busy": "2023-10-06T23:12:52.044251Z",
     "iopub.status.idle": "2023-10-06T23:12:52.048398Z",
     "shell.execute_reply": "2023-10-06T23:12:52.047976Z",
     "shell.execute_reply.started": "2023-10-06T23:12:52.044384Z"
    },
    "tags": []
   },
   "outputs": [],
   "source": [
    "socal.columns"
   ]
  },
  {
   "cell_type": "markdown",
   "metadata": {},
   "source": [
    "At least one of the attributes (columns) in the GeoDataFrame holds the geometries for the observations. In our case, this column is named `geometry`:"
   ]
  },
  {
   "cell_type": "code",
   "execution_count": null,
   "metadata": {
    "execution": {
     "iopub.execute_input": "2023-10-06T23:12:52.049101Z",
     "iopub.status.busy": "2023-10-06T23:12:52.048964Z",
     "iopub.status.idle": "2023-10-06T23:12:52.055023Z",
     "shell.execute_reply": "2023-10-06T23:12:52.054577Z",
     "shell.execute_reply.started": "2023-10-06T23:12:52.049091Z"
    },
    "tags": []
   },
   "outputs": [],
   "source": [
    "socal.geometry"
   ]
  },
  {
   "cell_type": "markdown",
   "metadata": {},
   "source": [
    "This shows us that each of our observations is encoded as a Polygon geometry. \n",
    "\n",
    "We can call the `plot` method of the GeoDataFrame to visualize these geometries:"
   ]
  },
  {
   "cell_type": "code",
   "execution_count": null,
   "metadata": {
    "execution": {
     "iopub.execute_input": "2023-10-06T23:12:52.055772Z",
     "iopub.status.busy": "2023-10-06T23:12:52.055670Z",
     "iopub.status.idle": "2023-10-06T23:12:52.663436Z",
     "shell.execute_reply": "2023-10-06T23:12:52.663145Z",
     "shell.execute_reply.started": "2023-10-06T23:12:52.055763Z"
    },
    "tags": []
   },
   "outputs": [],
   "source": [
    "socal.plot()"
   ]
  },
  {
   "cell_type": "markdown",
   "metadata": {},
   "source": [
    "Note that the tract identifier column is `geoid` which encodes the [11-digit FIPS code](https://www.fcc.gov/general/form-477-census-tract-information)."
   ]
  },
  {
   "cell_type": "markdown",
   "metadata": {},
   "source": [
    "~~## Reading shapefiles~~\n",
    "\n",
    "~~[shapefiles](https://doc.arcgis.com/en/arcgis-online/reference/shapefiles.htm) are a common legacy spatial data format for vector data. \n",
    "Let's explore a second data set that encodes mental health provider locations in Riverside County, California as points in a shapefile:~~\n",
    "\n",
    "## Definitely **do not** use shapefiles\n",
    "\n",
    "unless you are forced to. Do not ever provide your data to someone else in shapefile format :). You can use geopandas to read/write legacy formats but we wont bother covering them here. Avoid whenever possible"
   ]
  },
  {
   "cell_type": "markdown",
   "metadata": {},
   "source": [
    "### Reading a point shapefile"
   ]
  },
  {
   "cell_type": "code",
   "execution_count": null,
   "metadata": {
    "execution": {
     "iopub.execute_input": "2023-10-06T23:12:52.664084Z",
     "iopub.status.busy": "2023-10-06T23:12:52.663956Z",
     "iopub.status.idle": "2023-10-06T23:12:52.669201Z",
     "shell.execute_reply": "2023-10-06T23:12:52.668964Z",
     "shell.execute_reply.started": "2023-10-06T23:12:52.664075Z"
    },
    "tags": []
   },
   "outputs": [],
   "source": [
    "clinics_df = gpd.read_parquet('data/behavioralHealth.parquet')\n",
    "clinics_df.columns"
   ]
  },
  {
   "cell_type": "code",
   "execution_count": null,
   "metadata": {
    "execution": {
     "iopub.execute_input": "2023-10-06T23:12:52.669750Z",
     "iopub.status.busy": "2023-10-06T23:12:52.669644Z",
     "iopub.status.idle": "2023-10-06T23:12:52.676334Z",
     "shell.execute_reply": "2023-10-06T23:12:52.676076Z",
     "shell.execute_reply.started": "2023-10-06T23:12:52.669738Z"
    }
   },
   "outputs": [],
   "source": [
    "clinics_df.head()"
   ]
  },
  {
   "cell_type": "code",
   "execution_count": null,
   "metadata": {
    "execution": {
     "iopub.execute_input": "2023-10-06T23:12:52.676698Z",
     "iopub.status.busy": "2023-10-06T23:12:52.676625Z",
     "iopub.status.idle": "2023-10-06T23:12:52.738685Z",
     "shell.execute_reply": "2023-10-06T23:12:52.738388Z",
     "shell.execute_reply.started": "2023-10-06T23:12:52.676690Z"
    }
   },
   "outputs": [],
   "source": [
    "clinics_df.plot()"
   ]
  },
  {
   "cell_type": "code",
   "execution_count": null,
   "metadata": {
    "execution": {
     "iopub.execute_input": "2023-10-06T23:12:52.739261Z",
     "iopub.status.busy": "2023-10-06T23:12:52.739162Z",
     "iopub.status.idle": "2023-10-06T23:12:52.742394Z",
     "shell.execute_reply": "2023-10-06T23:12:52.742053Z",
     "shell.execute_reply.started": "2023-10-06T23:12:52.739251Z"
    }
   },
   "outputs": [],
   "source": [
    "clinics_df.geometry"
   ]
  },
  {
   "cell_type": "code",
   "execution_count": null,
   "metadata": {
    "execution": {
     "iopub.execute_input": "2023-10-06T23:12:52.742848Z",
     "iopub.status.busy": "2023-10-06T23:12:52.742768Z",
     "iopub.status.idle": "2023-10-06T23:12:52.747537Z",
     "shell.execute_reply": "2023-10-06T23:12:52.746543Z",
     "shell.execute_reply.started": "2023-10-06T23:12:52.742839Z"
    }
   },
   "outputs": [],
   "source": [
    "clinics_df.ADDRESS"
   ]
  },
  {
   "cell_type": "code",
   "execution_count": null,
   "metadata": {
    "execution": {
     "iopub.execute_input": "2023-10-06T23:12:52.748338Z",
     "iopub.status.busy": "2023-10-06T23:12:52.748238Z",
     "iopub.status.idle": "2023-10-06T23:12:52.752922Z",
     "shell.execute_reply": "2023-10-06T23:12:52.752462Z",
     "shell.execute_reply.started": "2023-10-06T23:12:52.748329Z"
    }
   },
   "outputs": [],
   "source": [
    "len(clinics_df.ADDRESS.unique()) # note some clinics have the same address (different types of services provided at same location)"
   ]
  },
  {
   "cell_type": "markdown",
   "metadata": {},
   "source": [
    "## Integrating spatial datasets\n",
    "Let's assume the role of a public health epidemiologist who is interested in equity issues surrounding access to mental health services. We have two datasets to work with here:\n",
    "\n",
    "- the clinics (points in Riverside County)\n",
    "- the tracts for all of Southern California\n",
    "\n",
    "We will thus want to narrow down the focus to Riverside county. So first, we need to extract the tracts for the county from the larger region:\n"
   ]
  },
  {
   "cell_type": "markdown",
   "metadata": {},
   "source": [
    "## Extracting Riverside County Tracts"
   ]
  },
  {
   "cell_type": "code",
   "execution_count": null,
   "metadata": {
    "execution": {
     "iopub.execute_input": "2023-10-06T23:13:06.941457Z",
     "iopub.status.busy": "2023-10-06T23:13:06.940994Z",
     "iopub.status.idle": "2023-10-06T23:13:07.055709Z",
     "shell.execute_reply": "2023-10-06T23:13:07.055358Z",
     "shell.execute_reply.started": "2023-10-06T23:13:06.941434Z"
    },
    "tags": []
   },
   "outputs": [],
   "source": [
    "rc = socal[socal['geoid'].str.match(\"^06065\")]\n",
    "#select by attributes\n",
    "\n",
    "rc.plot()"
   ]
  },
  {
   "cell_type": "markdown",
   "metadata": {},
   "source": [
    "## Spatial Joins\n",
    "\n",
    "With the two datasets in hand, we would like to know the answer to the following question:\n",
    "\n",
    "> How many clinics are in each census tract in Riverside County?\n",
    "\n",
    "To get at this answer will can use a [spatial join](https://gisgeography.com/spatial-join/). \n",
    "The idea here is to create a linkage between each clinic (point) and the tract (polygon) that the clinic lies within.\n",
    "\n",
    "The answer to our question will be the number of matches found for each census tract.\n",
    "\n",
    "In geopandas the spatial join is done with the `sjoin` method of the GeoDataFrame:\n"
   ]
  },
  {
   "cell_type": "code",
   "execution_count": null,
   "metadata": {
    "execution": {
     "iopub.execute_input": "2023-10-06T23:13:09.780699Z",
     "iopub.status.busy": "2023-10-06T23:13:09.779818Z",
     "iopub.status.idle": "2023-10-06T23:13:09.831798Z",
     "shell.execute_reply": "2023-10-06T23:13:09.831063Z",
     "shell.execute_reply.started": "2023-10-06T23:13:09.780664Z"
    },
    "tags": []
   },
   "outputs": [],
   "source": [
    "clinics_tracts = gpd.sjoin(clinics_df, rc, op='within')\n",
    "\n",
    "#warning that 2 diff crs\n",
    "#can use .crs on variables"
   ]
  },
  {
   "cell_type": "markdown",
   "metadata": {},
   "source": [
    "We see a warning here, that alerts us to a mismatch between the CRS: [Coordinate Reference Systems](https://www.w3.org/2015/spatial/wiki/Coordinate_Reference_Systems) of the two GeoDataFrames. We can inspect these to see what is going on:"
   ]
  },
  {
   "cell_type": "code",
   "execution_count": null,
   "metadata": {
    "execution": {
     "iopub.execute_input": "2023-10-06T23:13:11.318329Z",
     "iopub.status.busy": "2023-10-06T23:13:11.317032Z",
     "iopub.status.idle": "2023-10-06T23:13:11.341158Z",
     "shell.execute_reply": "2023-10-06T23:13:11.340413Z",
     "shell.execute_reply.started": "2023-10-06T23:13:11.318277Z"
    },
    "tags": []
   },
   "outputs": [],
   "source": [
    "clinics_df.crs"
   ]
  },
  {
   "cell_type": "code",
   "execution_count": null,
   "metadata": {
    "execution": {
     "iopub.execute_input": "2023-10-06T23:13:11.870206Z",
     "iopub.status.busy": "2023-10-06T23:13:11.868709Z",
     "iopub.status.idle": "2023-10-06T23:13:11.890895Z",
     "shell.execute_reply": "2023-10-06T23:13:11.890283Z",
     "shell.execute_reply.started": "2023-10-06T23:13:11.870131Z"
    },
    "tags": []
   },
   "outputs": [],
   "source": [
    "rc.crs"
   ]
  },
  {
   "cell_type": "markdown",
   "metadata": {},
   "source": [
    "So the clinics have a unit of feet, while the tracts are in degrees. The spatial join will be incorrect because of this since the observations from the two dataframes are in different coordinate systems:"
   ]
  },
  {
   "cell_type": "code",
   "execution_count": null,
   "metadata": {
    "execution": {
     "iopub.execute_input": "2023-10-06T23:13:12.624242Z",
     "iopub.status.busy": "2023-10-06T23:13:12.623525Z",
     "iopub.status.idle": "2023-10-06T23:13:12.664072Z",
     "shell.execute_reply": "2023-10-06T23:13:12.663465Z",
     "shell.execute_reply.started": "2023-10-06T23:13:12.624209Z"
    },
    "tags": []
   },
   "outputs": [],
   "source": [
    "clinics_tracts"
   ]
  },
  {
   "cell_type": "markdown",
   "metadata": {},
   "source": [
    "To rectify this, we need to have both GeoDataFrames in the same CRS. Let's change the CRS of the tracts GeoDataFrame which is currently:\n"
   ]
  },
  {
   "cell_type": "code",
   "execution_count": null,
   "metadata": {
    "execution": {
     "iopub.execute_input": "2023-10-06T23:13:13.249320Z",
     "iopub.status.busy": "2023-10-06T23:13:13.247145Z",
     "iopub.status.idle": "2023-10-06T23:13:13.402309Z",
     "shell.execute_reply": "2023-10-06T23:13:13.401825Z",
     "shell.execute_reply.started": "2023-10-06T23:13:13.249269Z"
    },
    "tags": []
   },
   "outputs": [],
   "source": [
    "rc.plot()"
   ]
  },
  {
   "cell_type": "markdown",
   "metadata": {},
   "source": [
    "To change this, we notice the helpful suggestion in the warning above to use the `to_crs` method. Let's try it to see how this works:"
   ]
  },
  {
   "cell_type": "code",
   "execution_count": null,
   "metadata": {
    "execution": {
     "iopub.execute_input": "2023-10-06T23:13:13.591493Z",
     "iopub.status.busy": "2023-10-06T23:13:13.591137Z",
     "iopub.status.idle": "2023-10-06T23:13:13.741807Z",
     "shell.execute_reply": "2023-10-06T23:13:13.741398Z",
     "shell.execute_reply.started": "2023-10-06T23:13:13.591471Z"
    },
    "tags": []
   },
   "outputs": [],
   "source": [
    "rc.to_crs(clinics_df.crs).plot()"
   ]
  },
  {
   "cell_type": "markdown",
   "metadata": {},
   "source": [
    "Comparison of the two plots shows us that the CRS has been changed. We did not assign the object yet (which is good practice when experimenting). But it does what we need, so lets assign the result to redefine our tracts GeoDataFrame:"
   ]
  },
  {
   "cell_type": "code",
   "execution_count": null,
   "metadata": {
    "execution": {
     "iopub.execute_input": "2023-10-06T23:13:14.120901Z",
     "iopub.status.busy": "2023-10-06T23:13:14.120206Z",
     "iopub.status.idle": "2023-10-06T23:13:14.148238Z",
     "shell.execute_reply": "2023-10-06T23:13:14.147543Z",
     "shell.execute_reply.started": "2023-10-06T23:13:14.120866Z"
    },
    "tags": []
   },
   "outputs": [],
   "source": [
    "rc = rc.to_crs(clinics_df.crs)\n",
    "#saves back into variable itself"
   ]
  },
  {
   "cell_type": "code",
   "execution_count": null,
   "metadata": {},
   "outputs": [],
   "source": [
    "rc.crs"
   ]
  },
  {
   "cell_type": "code",
   "execution_count": null,
   "metadata": {
    "execution": {
     "iopub.execute_input": "2023-10-06T23:13:14.278045Z",
     "iopub.status.busy": "2023-10-06T23:13:14.277576Z",
     "iopub.status.idle": "2023-10-06T23:13:14.314701Z",
     "shell.execute_reply": "2023-10-06T23:13:14.314270Z",
     "shell.execute_reply.started": "2023-10-06T23:13:14.278022Z"
    },
    "tags": []
   },
   "outputs": [],
   "source": [
    "clinics_tracts = gpd.sjoin(clinics_df, rc, op='within')\n",
    "#spatial join"
   ]
  },
  {
   "cell_type": "code",
   "execution_count": null,
   "metadata": {
    "execution": {
     "iopub.execute_input": "2023-10-06T23:13:14.409756Z",
     "iopub.status.busy": "2023-10-06T23:13:14.408967Z",
     "iopub.status.idle": "2023-10-06T23:13:14.442455Z",
     "shell.execute_reply": "2023-10-06T23:13:14.441989Z",
     "shell.execute_reply.started": "2023-10-06T23:13:14.409725Z"
    },
    "tags": []
   },
   "outputs": [],
   "source": [
    "clinics_tracts"
   ]
  },
  {
   "cell_type": "markdown",
   "metadata": {},
   "source": [
    "Now we see the spatial join has worked. There are 28 matches (one for each clinic) and this is stored in a new GeoDataFrame called: `clinics_tracts`."
   ]
  },
  {
   "cell_type": "markdown",
   "metadata": {},
   "source": [
    "## Determine the number of clinics in each tract\n",
    "\n",
    "Returning to our question, we can find the number of clinics in each of the tracts in this new GeoDataFrame by using the `group_by` method:"
   ]
  },
  {
   "cell_type": "code",
   "execution_count": null,
   "metadata": {
    "execution": {
     "iopub.execute_input": "2023-10-06T23:13:15.732319Z",
     "iopub.status.busy": "2023-10-06T23:13:15.731662Z",
     "iopub.status.idle": "2023-10-06T23:13:15.771259Z",
     "shell.execute_reply": "2023-10-06T23:13:15.746836Z",
     "shell.execute_reply.started": "2023-10-06T23:13:15.732279Z"
    },
    "tags": []
   },
   "outputs": [],
   "source": [
    "clinics_tracts[['geoid', 'index_right']].groupby('geoid').agg('count')"
   ]
  },
  {
   "cell_type": "markdown",
   "metadata": {},
   "source": [
    "This works, so let's create another DataFrame to store these counts:"
   ]
  },
  {
   "cell_type": "code",
   "execution_count": null,
   "metadata": {
    "execution": {
     "iopub.execute_input": "2023-10-06T23:13:16.016185Z",
     "iopub.status.busy": "2023-10-06T23:13:16.015402Z",
     "iopub.status.idle": "2023-10-06T23:13:16.038073Z",
     "shell.execute_reply": "2023-10-06T23:13:16.037320Z",
     "shell.execute_reply.started": "2023-10-06T23:13:16.016147Z"
    },
    "tags": []
   },
   "outputs": [],
   "source": [
    "ct = clinics_tracts[['geoid', 'index_right']].groupby('geoid').agg('count')\n",
    "ct.shape"
   ]
  },
  {
   "cell_type": "markdown",
   "metadata": {},
   "source": [
    "## Table Join\n",
    "\n"
   ]
  },
  {
   "cell_type": "markdown",
   "metadata": {},
   "source": [
    "We now know for the tracts that contain at least one clinic, how many clinics they contain. This implies that the tracts that are not in the `ct` GeoDataFrame do not contain a clinic. What we would like to have is an additional attribute on our `rc` tracts GeoDataFrame that stores the number of clinics in each tract - for all tracts in Riverside County.\n",
    "\n",
    "We can do this in two remaining steps:\n",
    "\n",
    "- a table join on the `geoid` column \n",
    "- setting NA values to 0"
   ]
  },
  {
   "cell_type": "code",
   "execution_count": null,
   "metadata": {
    "execution": {
     "iopub.execute_input": "2023-10-06T23:13:16.481450Z",
     "iopub.status.busy": "2023-10-06T23:13:16.480670Z",
     "iopub.status.idle": "2023-10-06T23:13:16.524324Z",
     "shell.execute_reply": "2023-10-06T23:13:16.523794Z",
     "shell.execute_reply.started": "2023-10-06T23:13:16.481420Z"
    },
    "tags": []
   },
   "outputs": [],
   "source": [
    "rc.merge(ct, on='geoid')"
   ]
  },
  {
   "cell_type": "markdown",
   "metadata": {},
   "source": [
    "Note that this isn't quite what we want as it only matches the 16 tracts containing clinics. We can change the `how` argument to `outer` to include all tracts:"
   ]
  },
  {
   "cell_type": "code",
   "execution_count": null,
   "metadata": {
    "execution": {
     "iopub.execute_input": "2023-10-06T23:13:16.795507Z",
     "iopub.status.busy": "2023-10-06T23:13:16.794871Z",
     "iopub.status.idle": "2023-10-06T23:13:16.831033Z",
     "shell.execute_reply": "2023-10-06T23:13:16.830603Z",
     "shell.execute_reply.started": "2023-10-06T23:13:16.795476Z"
    },
    "tags": []
   },
   "outputs": [],
   "source": [
    "rc.merge(ct, on='geoid', how='outer')"
   ]
  },
  {
   "cell_type": "markdown",
   "metadata": {},
   "source": [
    "Ok now we have all the tracts covered. But if you scroll to the right we will see `NaN` values for the tracts that do not contain a clinic. What remains is to replace the "
   ]
  },
  {
   "cell_type": "code",
   "execution_count": null,
   "metadata": {
    "execution": {
     "iopub.execute_input": "2023-10-06T23:13:17.107075Z",
     "iopub.status.busy": "2023-10-06T23:13:17.106113Z",
     "iopub.status.idle": "2023-10-06T23:13:17.150479Z",
     "shell.execute_reply": "2023-10-06T23:13:17.150141Z",
     "shell.execute_reply.started": "2023-10-06T23:13:17.107041Z"
    },
    "tags": []
   },
   "outputs": [],
   "source": [
    "rc.merge(ct, on='geoid', how='outer').fillna(0)"
   ]
  },
  {
   "cell_type": "markdown",
   "metadata": {},
   "source": [
    "Great. Now we save our work and rename the column holding the clinic count:"
   ]
  },
  {
   "cell_type": "code",
   "execution_count": null,
   "metadata": {
    "execution": {
     "iopub.execute_input": "2023-10-06T23:13:17.433405Z",
     "iopub.status.busy": "2023-10-06T23:13:17.433066Z",
     "iopub.status.idle": "2023-10-06T23:13:17.461851Z",
     "shell.execute_reply": "2023-10-06T23:13:17.461460Z",
     "shell.execute_reply.started": "2023-10-06T23:13:17.433380Z"
    },
    "tags": []
   },
   "outputs": [],
   "source": [
    "rc = rc.merge(ct, on='geoid', how='outer').fillna(0)"
   ]
  },
  {
   "cell_type": "code",
   "execution_count": null,
   "metadata": {
    "execution": {
     "iopub.execute_input": "2023-10-06T23:13:17.589268Z",
     "iopub.status.busy": "2023-10-06T23:13:17.587894Z",
     "iopub.status.idle": "2023-10-06T23:13:17.611040Z",
     "shell.execute_reply": "2023-10-06T23:13:17.610336Z",
     "shell.execute_reply.started": "2023-10-06T23:13:17.589234Z"
    },
    "tags": []
   },
   "outputs": [],
   "source": [
    "rc['index_right'].sum()"
   ]
  },
  {
   "cell_type": "code",
   "execution_count": null,
   "metadata": {
    "execution": {
     "iopub.execute_input": "2023-10-06T23:13:17.935542Z",
     "iopub.status.busy": "2023-10-06T23:13:17.934472Z",
     "iopub.status.idle": "2023-10-06T23:13:17.947083Z",
     "shell.execute_reply": "2023-10-06T23:13:17.944941Z",
     "shell.execute_reply.started": "2023-10-06T23:13:17.935503Z"
    },
    "tags": []
   },
   "outputs": [],
   "source": [
    "rc.rename(columns={'index_right': 'clinics'}, inplace=True)"
   ]
  },
  {
   "cell_type": "code",
   "execution_count": null,
   "metadata": {
    "execution": {
     "iopub.execute_input": "2023-10-06T23:13:18.095206Z",
     "iopub.status.busy": "2023-10-06T23:13:18.094517Z",
     "iopub.status.idle": "2023-10-06T23:13:18.109960Z",
     "shell.execute_reply": "2023-10-06T23:13:18.108733Z",
     "shell.execute_reply.started": "2023-10-06T23:13:18.095172Z"
    },
    "tags": []
   },
   "outputs": [],
   "source": [
    "rc.plot('clinics')\n",
    "#can add , scheme='quantiles'\n",
    "\n",
    "rc.clinics.sum()"
   ]
  },
  {
   "cell_type": "code",
   "execution_count": null,
   "metadata": {},
   "outputs": [],
   "source": [
    "socal_wgs = socal.to_crs(4326)"
   ]
  },
  {
   "cell_type": "code",
   "execution_count": null,
   "metadata": {},
   "outputs": [],
   "source": [
    "socal_wgs.estimate_utm_crs()"
   ]
  },
  {
   "cell_type": "code",
   "execution_count": null,
   "metadata": {
    "execution": {
     "iopub.execute_input": "2023-10-06T23:13:18.496080Z",
     "iopub.status.busy": "2023-10-06T23:13:18.494663Z",
     "iopub.status.idle": "2023-10-06T23:13:18.528830Z",
     "shell.execute_reply": "2023-10-06T23:13:18.528285Z",
     "shell.execute_reply.started": "2023-10-06T23:13:18.496043Z"
    },
    "tags": []
   },
   "outputs": [],
   "source": [
    "type(rc)"
   ]
  },
  {
   "cell_type": "markdown",
   "metadata": {},
   "source": [
    "<div class=\"alert alert-success\" style=\"font-size:120%\">\n",
    "<b>Exercise</b>: <br>\n",
    "Create a shapefile for each of the counties in the Southern California dataframe, and write to <code>data/FIPSCODE.shp</code>. Where <code>FIPSCODE</code> is the 5-digit\n",
    "<a href=\"https://www.nrcs.usda.gov/wps/portal/nrcs/detail/ca/home/?cid=nrcs143_013697\">FIPS Code for the county</a>.\n",
    "</div>"
   ]
  },
  {
   "cell_type": "code",
   "execution_count": null,
   "metadata": {
    "execution": {
     "iopub.status.busy": "2023-10-06T23:12:52.893542Z",
     "iopub.status.idle": "2023-10-06T23:12:52.894416Z",
     "shell.execute_reply": "2023-10-06T23:12:52.894286Z",
     "shell.execute_reply.started": "2023-10-06T23:12:52.894275Z"
    }
   },
   "outputs": [],
   "source": [
    "# %load solutions/00.py"
   ]
  },
  {
   "cell_type": "markdown",
   "metadata": {},
   "source": [
    "---\n",
    "\n",
    "<a rel=\"license\" href=\"http://creativecommons.org/licenses/by-nc-\n",
    "sa/4.0/\"><img alt=\"Creative Commons License\" style=\"border-width:0\"\n",
    "src=\"https://i.creativecommons.org/l/by-nc-sa/4.0/88x31.png\" /></a><br /><span\n",
    "xmlns:dct=\"http://purl.org/dc/terms/\" property=\"dct:title\">Geoprocessing</span> by <a xmlns:cc=\"http://creativecommons.org/ns#\"\n",
    "href=\"http://sergerey.org\" property=\"cc:attributionName\"\n",
    "rel=\"cc:attributionURL\">Serge Rey</a> is licensed under a <a\n",
    "rel=\"license\" href=\"http://creativecommons.org/licenses/by-nc-sa/4.0/\">Creative\n",
    "Commons Attribution-NonCommercial-ShareAlike 4.0 International License</a>."
   ]
  }
 ],
 "metadata": {
  "kernelspec": {
   "display_name": "pysal_carto_sdss",
   "language": "python",
   "name": "python3"
  },
  "language_info": {
   "codemirror_mode": {
    "name": "ipython",
    "version": 3
   },
   "file_extension": ".py",
   "mimetype": "text/x-python",
   "name": "python",
   "nbconvert_exporter": "python",
   "pygments_lexer": "ipython3",
   "version": "3.11.6"
  },
  "widgets": {
   "application/vnd.jupyter.widget-state+json": {
    "state": {},
    "version_major": 2,
    "version_minor": 0
   }
  }
 },
 "nbformat": 4,
 "nbformat_minor": 4
}
