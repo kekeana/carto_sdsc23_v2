{
 "cells": [
  {
   "cell_type": "markdown",
   "metadata": {},
   "source": [
    "# Exploratory Analysis of Spatial Data: Spatial Autocorrelation #\n",
    "\n",
    "\n",
    "In this notebook we introduce methods of _exploratory spatial data analysis_\n",
    "that are intended to complement geovizualization through formal univariate and\n",
    "multivariate statistical tests for spatial clustering.\n",
    "\n",
    "\n",
    "## Imports"
   ]
  },
  {
   "cell_type": "code",
   "execution_count": null,
   "metadata": {
    "execution": {
     "iopub.execute_input": "2023-10-06T23:15:09.442680Z",
     "iopub.status.busy": "2023-10-06T23:15:09.442496Z",
     "iopub.status.idle": "2023-10-06T23:15:12.438381Z",
     "shell.execute_reply": "2023-10-06T23:15:12.437881Z",
     "shell.execute_reply.started": "2023-10-06T23:15:09.442666Z"
    },
    "tags": []
   },
   "outputs": [],
   "source": [
    "import pandas as pd\n",
    "import geopandas as gpd\n",
    "import numpy as np\n",
    "import matplotlib.pyplot as plt\n",
    "import esda\n",
    "import libpysal as lps\n",
    "import contextily as cx"
   ]
  },
  {
   "cell_type": "code",
   "execution_count": null,
   "metadata": {
    "execution": {
     "iopub.execute_input": "2023-10-06T23:15:12.439780Z",
     "iopub.status.busy": "2023-10-06T23:15:12.439516Z",
     "iopub.status.idle": "2023-10-06T23:15:12.560543Z",
     "shell.execute_reply": "2023-10-06T23:15:12.560118Z",
     "shell.execute_reply.started": "2023-10-06T23:15:12.439764Z"
    },
    "tags": []
   },
   "outputs": [],
   "source": [
    "import seaborn as sns\n",
    "sns.set_context('notebook')\n",
    "%matplotlib inline"
   ]
  },
  {
   "cell_type": "markdown",
   "metadata": {},
   "source": [
    "## Data"
   ]
  },
  {
   "cell_type": "markdown",
   "metadata": {},
   "source": [
    "For this exercise, we'll use two datasets:\n",
    "\n",
    "1. a set of polygons (census tracts) for the city of San Diego from the US Census American Community Survey 5-year estimates.\n",
    "\n"
   ]
  },
  {
   "cell_type": "markdown",
   "metadata": {},
   "source": [
    "### Census Polygons"
   ]
  },
  {
   "cell_type": "code",
   "execution_count": null,
   "metadata": {
    "execution": {
     "iopub.execute_input": "2023-10-06T23:15:12.561201Z",
     "iopub.status.busy": "2023-10-06T23:15:12.561077Z",
     "iopub.status.idle": "2023-10-06T23:15:12.643771Z",
     "shell.execute_reply": "2023-10-06T23:15:12.643348Z",
     "shell.execute_reply.started": "2023-10-06T23:15:12.561188Z"
    },
    "tags": []
   },
   "outputs": [],
   "source": [
    "socal = gpd.read_parquet(\"data/scag_region.parquet\")"
   ]
  },
  {
   "cell_type": "code",
   "execution_count": null,
   "metadata": {
    "execution": {
     "iopub.execute_input": "2023-10-06T23:15:16.748771Z",
     "iopub.status.busy": "2023-10-06T23:15:16.748361Z",
     "iopub.status.idle": "2023-10-06T23:15:16.769415Z",
     "shell.execute_reply": "2023-10-06T23:15:16.768338Z",
     "shell.execute_reply.started": "2023-10-06T23:15:16.748745Z"
    },
    "tags": []
   },
   "outputs": [],
   "source": [
    "san_diego = socal[socal.geoid.str[:5]=='06073']"
   ]
  },
  {
   "cell_type": "code",
   "execution_count": null,
   "metadata": {
    "execution": {
     "iopub.execute_input": "2023-10-06T23:15:17.475762Z",
     "iopub.status.busy": "2023-10-06T23:15:17.474461Z",
     "iopub.status.idle": "2023-10-06T23:15:17.513763Z",
     "shell.execute_reply": "2023-10-06T23:15:17.513081Z",
     "shell.execute_reply.started": "2023-10-06T23:15:17.475723Z"
    },
    "tags": []
   },
   "outputs": [],
   "source": [
    "san_diego.info()"
   ]
  },
  {
   "cell_type": "code",
   "execution_count": null,
   "metadata": {
    "execution": {
     "iopub.execute_input": "2023-10-06T23:15:18.055394Z",
     "iopub.status.busy": "2023-10-06T23:15:18.054795Z",
     "iopub.status.idle": "2023-10-06T23:15:18.068673Z",
     "shell.execute_reply": "2023-10-06T23:15:18.066992Z",
     "shell.execute_reply.started": "2023-10-06T23:15:18.055363Z"
    },
    "tags": []
   },
   "outputs": [],
   "source": [
    "san_diego = san_diego.dropna(subset=['median_home_value'])"
   ]
  },
  {
   "cell_type": "code",
   "execution_count": null,
   "metadata": {
    "execution": {
     "iopub.execute_input": "2023-10-06T23:15:18.532197Z",
     "iopub.status.busy": "2023-10-06T23:15:18.531786Z",
     "iopub.status.idle": "2023-10-06T23:15:18.569207Z",
     "shell.execute_reply": "2023-10-06T23:15:18.568636Z",
     "shell.execute_reply.started": "2023-10-06T23:15:18.532172Z"
    },
    "tags": []
   },
   "outputs": [],
   "source": [
    "san_diego = san_diego.to_crs(epsg=3857)"
   ]
  },
  {
   "cell_type": "code",
   "execution_count": null,
   "metadata": {
    "execution": {
     "iopub.execute_input": "2023-10-06T23:15:31.248448Z",
     "iopub.status.busy": "2023-10-06T23:15:31.248002Z",
     "iopub.status.idle": "2023-10-06T23:15:35.279949Z",
     "shell.execute_reply": "2023-10-06T23:15:35.279605Z",
     "shell.execute_reply.started": "2023-10-06T23:15:31.248422Z"
    },
    "tags": []
   },
   "outputs": [],
   "source": [
    "f, ax = plt.subplots(figsize=(10,10))\n",
    "\n",
    "san_diego.plot('median_home_value', ax=ax, alpha=0.6)\n",
    "cx.add_basemap(ax, crs=san_diego.crs.to_string(), source=cx.providers.CartoDB.Positron)\n",
    "ax.axis('off')"
   ]
  },
  {
   "cell_type": "code",
   "execution_count": null,
   "metadata": {},
   "outputs": [],
   "source": [
    "san_diego.median_home_value.hist()"
   ]
  },
  {
   "cell_type": "code",
   "execution_count": null,
   "metadata": {
    "execution": {
     "iopub.execute_input": "2023-10-06T23:15:44.915154Z",
     "iopub.status.busy": "2023-10-06T23:15:44.914723Z",
     "iopub.status.idle": "2023-10-06T23:15:45.506684Z",
     "shell.execute_reply": "2023-10-06T23:15:45.506207Z",
     "shell.execute_reply.started": "2023-10-06T23:15:44.915129Z"
    },
    "tags": []
   },
   "outputs": [],
   "source": [
    "fig, ax = plt.subplots(figsize=(12,12))\n",
    "\n",
    "san_diego.dropna(subset=['median_home_value']).to_crs(epsg=3857).plot('median_home_value', legend=True, scheme='quantiles', cmap='GnBu', k=5, ax=ax, alpha=0.7)\n",
    "\n",
    "cx.add_basemap(ax, crs=san_diego.crs.to_string(), source=cx.providers.Stamen.TonerLite)\n",
    "ax.axis('off')\n",
    "\n",
    "plt.title(\"Median Home Value (Quintiles)\", fontsize=16)\n",
    "\n",
    "plt.axis('off')\n",
    "plt.tight_layout()"
   ]
  },
  {
   "cell_type": "markdown",
   "metadata": {},
   "source": [
    "## Spatial Autocorrelation ##\n",
    "\n",
    "Visual inspection of the map pattern for the prices allows us to search for\n",
    "spatial structure. If the spatial distribution of the prices was random, then we\n",
    "should not see any clustering of similar values on the map. However, our visual\n",
    "system is drawn to the darker clusters along the coast,\n",
    "and a concentration of the lighter hues (lower prices) in the north central and\n",
    "south east. In the point data, the trees are too dense to make any sense of the pattern\n",
    "\n",
    "Our brains are very powerful pattern recognition machines. However, sometimes\n",
    "they can be too powerful and lead us to detect false positives, or patterns\n",
    "where there are no statistical patterns. This is a particular concern when\n",
    "dealing with visualization of irregular polygons of differning sizes and shapes.\n",
    "\n",
    "The concept of *spatial\n",
    "autocorrelation* relates to the combination of two types of similarity: spatial\n",
    "similarity and attribute similarity. Although there are many different measures\n",
    "of spatial autocorrelation, they all combine these two types of simmilarity into\n",
    "a summary measure.\n",
    "\n",
    "Let's use PySAL to generate these two types of similarity\n",
    "measures.\n",
    "\n",
    "### Spatial Similarity ###\n",
    "\n",
    "We have already encountered spatial weights\n",
    "in a previous notebook. In spatial autocorrelation analysis, the spatial weights\n",
    "are used to formalize the notion of spatial similarity. As we have seen there\n",
    "are many ways to define spatial weights, here we will use queen contiguity:"
   ]
  },
  {
   "cell_type": "code",
   "execution_count": null,
   "metadata": {
    "execution": {
     "iopub.execute_input": "2023-10-06T23:15:48.860600Z",
     "iopub.status.busy": "2023-10-06T23:15:48.859709Z",
     "iopub.status.idle": "2023-10-06T23:15:49.026020Z",
     "shell.execute_reply": "2023-10-06T23:15:49.025668Z",
     "shell.execute_reply.started": "2023-10-06T23:15:48.860560Z"
    },
    "tags": []
   },
   "outputs": [],
   "source": [
    "wq =  lps.weights.Queen.from_dataframe(san_diego)\n",
    "wq.transform = 'r'"
   ]
  },
  {
   "cell_type": "markdown",
   "metadata": {},
   "source": [
    "### Attribute Similarity ###\n",
    "\n",
    "So the spatial weight between neighborhoods $i$ and $j$ indicates if the two \n",
    "are neighbors (i.e., geographically similar). What we also need is a measure of\n",
    "attribute similarity to pair up with this concept of spatial similarity. The\n",
    "**spatial lag** is a derived variable that accomplishes this for us. For neighborhood\n",
    "$i$ the spatial lag is defined as: $$ylag_i = \\sum_j w_{i,j} y_j$$"
   ]
  },
  {
   "cell_type": "code",
   "execution_count": null,
   "metadata": {
    "execution": {
     "iopub.execute_input": "2023-10-06T23:15:49.117827Z",
     "iopub.status.busy": "2023-10-06T23:15:49.117589Z",
     "iopub.status.idle": "2023-10-06T23:15:49.124841Z",
     "shell.execute_reply": "2023-10-06T23:15:49.124303Z",
     "shell.execute_reply.started": "2023-10-06T23:15:49.117812Z"
    },
    "tags": []
   },
   "outputs": [],
   "source": [
    "y = san_diego['median_home_value']\n",
    "ylag = lps.weights.lag_spatial(wq, y)"
   ]
  },
  {
   "cell_type": "code",
   "execution_count": null,
   "metadata": {
    "execution": {
     "iopub.execute_input": "2023-10-06T23:15:49.266001Z",
     "iopub.status.busy": "2023-10-06T23:15:49.265546Z",
     "iopub.status.idle": "2023-10-06T23:15:49.779946Z",
     "shell.execute_reply": "2023-10-06T23:15:49.779598Z",
     "shell.execute_reply.started": "2023-10-06T23:15:49.265976Z"
    },
    "tags": []
   },
   "outputs": [],
   "source": [
    "f, ax = plt.subplots(1, figsize=(12, 12))\n",
    "\n",
    "san_diego.assign(cl=ylag).plot(column='cl', scheme='quantiles', \\\n",
    "        k=5, cmap='GnBu', linewidth=0.1, ax=ax, \\\n",
    "        edgecolor='white', legend=True)\n",
    "\n",
    "cx.add_basemap(ax, crs=san_diego.crs.to_string(), source=cx.providers.Stamen.TonerLite)\n",
    "ax.axis('off')\n",
    "\n",
    "plt.title(\"Spatial Lag Median Home Val (Quintiles)\", fontsize=16)\n",
    "\n",
    "plt.show()"
   ]
  },
  {
   "cell_type": "markdown",
   "metadata": {},
   "source": [
    "The quintile map for the spatial lag tends to enhance the impression of value\n",
    "similarity in space. It is, in effect, a local smoother."
   ]
  },
  {
   "cell_type": "code",
   "execution_count": null,
   "metadata": {
    "execution": {
     "iopub.execute_input": "2023-10-06T23:15:49.781000Z",
     "iopub.status.busy": "2023-10-06T23:15:49.780817Z",
     "iopub.status.idle": "2023-10-06T23:15:50.414602Z",
     "shell.execute_reply": "2023-10-06T23:15:50.414288Z",
     "shell.execute_reply.started": "2023-10-06T23:15:49.780987Z"
    },
    "tags": []
   },
   "outputs": [],
   "source": [
    "san_diego['lag_median_pri'] = ylag\n",
    "\n",
    "f,ax = plt.subplots(1,2,figsize=(12,4))\n",
    "\n",
    "san_diego.plot(column='median_home_value', ax=ax[0],\n",
    "        scheme=\"quantiles\",  k=5, cmap='GnBu')\n",
    "\n",
    "#ax[0].axis(san_diego.total_bounds[np.asarray([0,2,1,3])])\n",
    "ax[0].set_title(\"Price\", fontsize=16)\n",
    "\n",
    "san_diego.plot(column='lag_median_pri', ax=ax[1],\n",
    "        scheme='quantiles', cmap='GnBu', k=5)\n",
    "\n",
    "cx.add_basemap(ax[0], crs=san_diego.crs.to_string(), source=cx.providers.Stamen.TonerLite)\n",
    "\n",
    "cx.add_basemap(ax[1], crs=san_diego.crs.to_string(), source=cx.providers.Stamen.TonerLite)\n",
    "\n",
    "ax[1].set_title(\"Spatial Lag Price\", fontsize=16)\n",
    "ax[0].axis('off')\n",
    "ax[1].axis('off')\n",
    "\n",
    "plt.show()"
   ]
  },
  {
   "cell_type": "markdown",
   "metadata": {},
   "source": [
    "However, we still have\n",
    "the challenge of visually associating the value of the prices in a neighborhod\n",
    "with the value of the spatial lag of values for the focal unit. The latter is a\n",
    "weighted average of home prices in the focal county's neighborhood.\n",
    "\n",
    "To complement the geovisualization of these associations we can turn to formal\n",
    "statistical measures of spatial autocorrelation.\n",
    "\n",
    "\n",
    "## Global Spatial Autocorrelation\n",
    "\n"
   ]
  },
  {
   "cell_type": "markdown",
   "metadata": {},
   "source": [
    "## Join counts ##\n",
    "\n",
    "One way to formalize a test for spatial autocorrelation in a binary attribute is\n",
    "to consider the so-called _joins_. A join exists for each neighbor pair of\n",
    "observations, and the joins are reflected in our binary spatial weights object\n",
    "`wq`. \n",
    "\n",
    "Each unit can take on one of two values \"Black\" or \"White\", analogous to the layout of a chessboard"
   ]
  },
  {
   "cell_type": "code",
   "execution_count": null,
   "metadata": {
    "execution": {
     "iopub.execute_input": "2023-10-06T23:15:50.415385Z",
     "iopub.status.busy": "2023-10-06T23:15:50.415294Z",
     "iopub.status.idle": "2023-10-06T23:15:50.475531Z",
     "shell.execute_reply": "2023-10-06T23:15:50.475132Z",
     "shell.execute_reply.started": "2023-10-06T23:15:50.415376Z"
    },
    "tags": []
   },
   "outputs": [],
   "source": [
    "nrows, ncols = 9,9\n",
    "image = np.zeros(nrows*ncols)\n",
    "\n",
    "# Set every other cell to 1\n",
    "image[::2] = 1\n",
    "\n",
    "# Reshape things into a 9x9 grid.\n",
    "image = image.reshape((nrows, ncols))\n",
    "plt.matshow(image, cmap='Greys')\n",
    "plt.axis('off')\n",
    "plt.show()"
   ]
  },
  {
   "cell_type": "markdown",
   "metadata": {},
   "source": [
    "and so for a given\n",
    "pair of neighboring locations there are three different types of joins that can\n",
    "arise:\n",
    "\n",
    "- Black Black (BB)\n",
    "- White White (WW)\n",
    "- Black White (or White Black) (BW)\n",
    "\n",
    "\n",
    "We can use the `esda` package from PySAL to carry out join count analysis. In the case of our point data, the join counts can help us determine whether different varieties of trees tend to grow together, spread randomly through space, or compete with one another for precious resources"
   ]
  },
  {
   "cell_type": "markdown",
   "metadata": {},
   "source": [
    "### Polygon Data"
   ]
  },
  {
   "cell_type": "markdown",
   "metadata": {},
   "source": [
    "With polygon data, we can conduct an analysis using a contiguity matrix. For our housing price data, we need to first discretize the variable we're using; to keep things simple, we'll binarize our price data using the median so that \"high\" values are tracts whose median home price is above the city's median and \"low\" values are those below"
   ]
  },
  {
   "cell_type": "code",
   "execution_count": null,
   "metadata": {
    "execution": {
     "iopub.execute_input": "2023-10-06T23:15:50.596998Z",
     "iopub.status.busy": "2023-10-06T23:15:50.596794Z",
     "iopub.status.idle": "2023-10-06T23:15:50.602017Z",
     "shell.execute_reply": "2023-10-06T23:15:50.601674Z",
     "shell.execute_reply.started": "2023-10-06T23:15:50.596980Z"
    },
    "tags": []
   },
   "outputs": [],
   "source": [
    "y.median()"
   ]
  },
  {
   "cell_type": "code",
   "execution_count": null,
   "metadata": {
    "execution": {
     "iopub.execute_input": "2023-10-06T23:15:50.754243Z",
     "iopub.status.busy": "2023-10-06T23:15:50.753975Z",
     "iopub.status.idle": "2023-10-06T23:15:50.758981Z",
     "shell.execute_reply": "2023-10-06T23:15:50.758567Z",
     "shell.execute_reply.started": "2023-10-06T23:15:50.754228Z"
    },
    "tags": []
   },
   "outputs": [],
   "source": [
    "san_diego.shape"
   ]
  },
  {
   "cell_type": "code",
   "execution_count": null,
   "metadata": {
    "execution": {
     "iopub.execute_input": "2023-10-06T23:15:50.931505Z",
     "iopub.status.busy": "2023-10-06T23:15:50.930244Z",
     "iopub.status.idle": "2023-10-06T23:15:50.941885Z",
     "shell.execute_reply": "2023-10-06T23:15:50.941036Z",
     "shell.execute_reply.started": "2023-10-06T23:15:50.931471Z"
    },
    "tags": []
   },
   "outputs": [],
   "source": [
    "yb = y > y.median()\n",
    "sum(yb)"
   ]
  },
  {
   "cell_type": "code",
   "execution_count": null,
   "metadata": {
    "execution": {
     "iopub.execute_input": "2023-10-06T23:15:51.066811Z",
     "iopub.status.busy": "2023-10-06T23:15:51.066091Z",
     "iopub.status.idle": "2023-10-06T23:15:51.073839Z",
     "shell.execute_reply": "2023-10-06T23:15:51.073174Z",
     "shell.execute_reply.started": "2023-10-06T23:15:51.066784Z"
    },
    "tags": []
   },
   "outputs": [],
   "source": [
    "yb = y > y.median()\n",
    "labels = [\"0 Low\", \"1 High\"]\n",
    "yb = [labels[i] for i in 1*yb] \n",
    "san_diego['yb'] = yb"
   ]
  },
  {
   "cell_type": "code",
   "execution_count": null,
   "metadata": {
    "execution": {
     "iopub.execute_input": "2023-10-06T23:15:51.216875Z",
     "iopub.status.busy": "2023-10-06T23:15:51.216225Z",
     "iopub.status.idle": "2023-10-06T23:15:51.463421Z",
     "shell.execute_reply": "2023-10-06T23:15:51.462964Z",
     "shell.execute_reply.started": "2023-10-06T23:15:51.216848Z"
    },
    "tags": []
   },
   "outputs": [],
   "source": [
    "fig, ax = plt.subplots(figsize=(12,12))\n",
    "san_diego.plot(column='yb', cmap='binary', edgecolor='grey', legend=True, ax=ax)"
   ]
  },
  {
   "cell_type": "markdown",
   "metadata": {},
   "source": [
    "The spatial distribution of the binary variable immediately raises questions\n",
    "about the juxtaposition of the \"black\" and \"white\" areas."
   ]
  },
  {
   "cell_type": "markdown",
   "metadata": {},
   "source": [
    "Given that we have 308 Black polygons on our map, what is the number of Black\n",
    "Black (BB) joins we could expect if the process were such that the Black\n",
    "polygons were randomly assigned on the map?"
   ]
  },
  {
   "cell_type": "code",
   "execution_count": null,
   "metadata": {
    "execution": {
     "iopub.execute_input": "2023-10-06T23:15:51.693747Z",
     "iopub.status.busy": "2023-10-06T23:15:51.693497Z",
     "iopub.status.idle": "2023-10-06T23:15:52.313320Z",
     "shell.execute_reply": "2023-10-06T23:15:52.312880Z",
     "shell.execute_reply.started": "2023-10-06T23:15:51.693728Z"
    },
    "tags": []
   },
   "outputs": [],
   "source": [
    "yb = 1 * (y > y.median()) # convert back to binary\n",
    "wq =  lps.weights.Queen.from_dataframe(san_diego)\n",
    "wq.transform = 'b'\n",
    "np.random.seed(12345)\n",
    "jc = esda.join_counts.Join_Counts(yb, wq)"
   ]
  },
  {
   "cell_type": "markdown",
   "metadata": {},
   "source": [
    "The resulting object stores the observed counts for the different types of joins:"
   ]
  },
  {
   "cell_type": "code",
   "execution_count": null,
   "metadata": {
    "execution": {
     "iopub.execute_input": "2023-10-06T23:15:52.314192Z",
     "iopub.status.busy": "2023-10-06T23:15:52.314101Z",
     "iopub.status.idle": "2023-10-06T23:15:52.318321Z",
     "shell.execute_reply": "2023-10-06T23:15:52.317968Z",
     "shell.execute_reply.started": "2023-10-06T23:15:52.314183Z"
    },
    "tags": []
   },
   "outputs": [],
   "source": [
    "jc.bb"
   ]
  },
  {
   "cell_type": "code",
   "execution_count": null,
   "metadata": {
    "execution": {
     "iopub.execute_input": "2023-10-06T23:15:52.318782Z",
     "iopub.status.busy": "2023-10-06T23:15:52.318694Z",
     "iopub.status.idle": "2023-10-06T23:15:52.324540Z",
     "shell.execute_reply": "2023-10-06T23:15:52.324102Z",
     "shell.execute_reply.started": "2023-10-06T23:15:52.318773Z"
    },
    "tags": []
   },
   "outputs": [],
   "source": [
    "jc.ww"
   ]
  },
  {
   "cell_type": "code",
   "execution_count": null,
   "metadata": {
    "execution": {
     "iopub.execute_input": "2023-10-06T23:15:52.325913Z",
     "iopub.status.busy": "2023-10-06T23:15:52.325796Z",
     "iopub.status.idle": "2023-10-06T23:15:52.330546Z",
     "shell.execute_reply": "2023-10-06T23:15:52.329185Z",
     "shell.execute_reply.started": "2023-10-06T23:15:52.325903Z"
    },
    "tags": []
   },
   "outputs": [],
   "source": [
    "jc.bw"
   ]
  },
  {
   "cell_type": "markdown",
   "metadata": {},
   "source": [
    "Note that the three cases exhaust all possibilities:"
   ]
  },
  {
   "cell_type": "code",
   "execution_count": null,
   "metadata": {
    "execution": {
     "iopub.execute_input": "2023-10-06T23:15:52.633572Z",
     "iopub.status.busy": "2023-10-06T23:15:52.633106Z",
     "iopub.status.idle": "2023-10-06T23:15:52.649314Z",
     "shell.execute_reply": "2023-10-06T23:15:52.647665Z",
     "shell.execute_reply.started": "2023-10-06T23:15:52.633545Z"
    },
    "tags": []
   },
   "outputs": [],
   "source": [
    "jc.bb + jc.ww + jc.bw"
   ]
  },
  {
   "cell_type": "markdown",
   "metadata": {},
   "source": [
    "and"
   ]
  },
  {
   "cell_type": "code",
   "execution_count": null,
   "metadata": {
    "execution": {
     "iopub.execute_input": "2023-10-06T23:15:52.969282Z",
     "iopub.status.busy": "2023-10-06T23:15:52.968631Z",
     "iopub.status.idle": "2023-10-06T23:15:52.978945Z",
     "shell.execute_reply": "2023-10-06T23:15:52.977827Z",
     "shell.execute_reply.started": "2023-10-06T23:15:52.969252Z"
    },
    "tags": []
   },
   "outputs": [],
   "source": [
    "wq.s0 / 2"
   ]
  },
  {
   "cell_type": "markdown",
   "metadata": {},
   "source": [
    "which is the unique number of joins in the spatial weights object.\n",
    "\n",
    "Our object tells us we have observed 736 BB joins:"
   ]
  },
  {
   "cell_type": "code",
   "execution_count": null,
   "metadata": {
    "execution": {
     "iopub.execute_input": "2023-10-06T23:15:53.289390Z",
     "iopub.status.busy": "2023-10-06T23:15:53.288693Z",
     "iopub.status.idle": "2023-10-06T23:15:53.298863Z",
     "shell.execute_reply": "2023-10-06T23:15:53.297914Z",
     "shell.execute_reply.started": "2023-10-06T23:15:53.289356Z"
    },
    "tags": []
   },
   "outputs": [],
   "source": [
    "jc.bb"
   ]
  },
  {
   "cell_type": "markdown",
   "metadata": {},
   "source": [
    "The critical question for us, is whether this is a departure from what we would\n",
    "expect if the process generating the spatial distribution of the Black polygons\n",
    "were a completely random one? To answer this, PySAL uses random spatial\n",
    "permutations of the observed attribute values to generate a realization under\n",
    "the null of _complete spatial randomness_ (CSR). This is repeated a large number\n",
    "of times (999 default) to construct a reference distribution to evaluate the\n",
    "statistical significance of our observed counts.\n",
    "\n",
    "The average number of BB joins from the synthetic realizations is:"
   ]
  },
  {
   "cell_type": "code",
   "execution_count": null,
   "metadata": {
    "execution": {
     "iopub.execute_input": "2023-10-06T23:15:53.739590Z",
     "iopub.status.busy": "2023-10-06T23:15:53.737792Z",
     "iopub.status.idle": "2023-10-06T23:15:53.777378Z",
     "shell.execute_reply": "2023-10-06T23:15:53.776600Z",
     "shell.execute_reply.started": "2023-10-06T23:15:53.739531Z"
    },
    "tags": []
   },
   "outputs": [],
   "source": [
    "jc.mean_bb"
   ]
  },
  {
   "cell_type": "markdown",
   "metadata": {},
   "source": [
    "which is less than our observed count. The question is whether our observed\n",
    "value is so different from the expectation that we would reject the null of CSR?"
   ]
  },
  {
   "cell_type": "code",
   "execution_count": null,
   "metadata": {
    "execution": {
     "iopub.execute_input": "2023-10-06T23:15:54.036501Z",
     "iopub.status.busy": "2023-10-06T23:15:54.036040Z",
     "iopub.status.idle": "2023-10-06T23:15:54.146252Z",
     "shell.execute_reply": "2023-10-06T23:15:54.145880Z",
     "shell.execute_reply.started": "2023-10-06T23:15:54.036471Z"
    },
    "tags": []
   },
   "outputs": [],
   "source": [
    "import seaborn as sbn\n",
    "sbn.kdeplot(jc.sim_bb, shade=True)\n",
    "plt.vlines(jc.bb, 0, 0.075, color='r')\n",
    "plt.vlines(jc.mean_bb, 0,0.075)\n",
    "plt.xlabel('BB Counts')"
   ]
  },
  {
   "cell_type": "markdown",
   "metadata": {},
   "source": [
    "The density portrays the distribution of the BB counts, with the black vertical\n",
    "line indicating the mean BB count from the synthetic realizations and the red\n",
    "line the observed BB count for our prices. Clearly our observed value is\n",
    "extremely high. A pseudo p-value summarizes this:"
   ]
  },
  {
   "cell_type": "code",
   "execution_count": null,
   "metadata": {
    "execution": {
     "iopub.execute_input": "2023-10-06T23:15:54.365093Z",
     "iopub.status.busy": "2023-10-06T23:15:54.364795Z",
     "iopub.status.idle": "2023-10-06T23:15:54.370493Z",
     "shell.execute_reply": "2023-10-06T23:15:54.370032Z",
     "shell.execute_reply.started": "2023-10-06T23:15:54.365063Z"
    },
    "tags": []
   },
   "outputs": [],
   "source": [
    "jc.p_sim_bb"
   ]
  },
  {
   "cell_type": "markdown",
   "metadata": {},
   "source": [
    "Since this is below conventional significance levels, we would reject the null\n",
    "of complete spatial randomness in favor of spatial autocorrelation in market prices.\n",
    "\n",
    "\n",
    "### Continuous Case\n",
    "\n",
    "The join count analysis is based on a binary attribute, which can cover many\n",
    "interesting empirical applications where one is interested in presence and\n",
    "absence type phenomena. In our case, we artificially created the binary variable,\n",
    "and in the process we throw away a lot of information in our originally\n",
    "continuous attribute. Turning back to the original variable, we can explore\n",
    "other tests for spatial autocorrelation for the continuous case.\n",
    "\n",
    "First, we transform our weights to be row-standardized, from the current binary state:"
   ]
  },
  {
   "cell_type": "code",
   "execution_count": null,
   "metadata": {
    "execution": {
     "iopub.execute_input": "2023-10-06T23:15:54.703636Z",
     "iopub.status.busy": "2023-10-06T23:15:54.702847Z",
     "iopub.status.idle": "2023-10-06T23:15:54.721346Z",
     "shell.execute_reply": "2023-10-06T23:15:54.719048Z",
     "shell.execute_reply.started": "2023-10-06T23:15:54.703598Z"
    },
    "tags": []
   },
   "outputs": [],
   "source": [
    "wq.transform = 'r'"
   ]
  },
  {
   "cell_type": "code",
   "execution_count": null,
   "metadata": {
    "execution": {
     "iopub.execute_input": "2023-10-06T23:15:54.871400Z",
     "iopub.status.busy": "2023-10-06T23:15:54.870751Z",
     "iopub.status.idle": "2023-10-06T23:15:54.890927Z",
     "shell.execute_reply": "2023-10-06T23:15:54.885604Z",
     "shell.execute_reply.started": "2023-10-06T23:15:54.871365Z"
    },
    "tags": []
   },
   "outputs": [],
   "source": [
    "y = san_diego['median_home_value']"
   ]
  },
  {
   "cell_type": "markdown",
   "metadata": {},
   "source": [
    "Moran's I is a test for global autocorrelation for a continuous attribute:"
   ]
  },
  {
   "cell_type": "code",
   "execution_count": null,
   "metadata": {
    "execution": {
     "iopub.execute_input": "2023-10-06T23:15:55.203934Z",
     "iopub.status.busy": "2023-10-06T23:15:55.203463Z",
     "iopub.status.idle": "2023-10-06T23:15:55.246339Z",
     "shell.execute_reply": "2023-10-06T23:15:55.245904Z",
     "shell.execute_reply.started": "2023-10-06T23:15:55.203904Z"
    },
    "tags": []
   },
   "outputs": [],
   "source": [
    "np.random.seed(12345)\n",
    "mi = esda.moran.Moran(y, wq)\n",
    "mi.I"
   ]
  },
  {
   "cell_type": "markdown",
   "metadata": {},
   "source": [
    "Again, our value for the statistic needs to be interpreted against a reference\n",
    "distribution under the null of CSR. PySAL uses a similar approach as we saw in\n",
    "the join count analysis: random spatial permutations."
   ]
  },
  {
   "cell_type": "code",
   "execution_count": null,
   "metadata": {
    "execution": {
     "iopub.execute_input": "2023-10-06T23:15:55.548421Z",
     "iopub.status.busy": "2023-10-06T23:15:55.547542Z",
     "iopub.status.idle": "2023-10-06T23:15:55.731810Z",
     "shell.execute_reply": "2023-10-06T23:15:55.731416Z",
     "shell.execute_reply.started": "2023-10-06T23:15:55.548381Z"
    },
    "tags": []
   },
   "outputs": [],
   "source": [
    "from splot.esda import plot_moran\n",
    "plot_moran(mi, zstandard=True, figsize=(10,4))\n",
    "plt.show()"
   ]
  },
  {
   "cell_type": "markdown",
   "metadata": {},
   "source": [
    "On the left, we have the reference distribution versus the observed statistic; on the right, we have a plot of the focal value against its spatial lag, for which the Moran I statistic serves as the slope"
   ]
  },
  {
   "cell_type": "markdown",
   "metadata": {},
   "source": [
    "Here our observed value is again in the upper tail"
   ]
  },
  {
   "cell_type": "code",
   "execution_count": null,
   "metadata": {
    "execution": {
     "iopub.execute_input": "2023-10-06T23:15:56.081965Z",
     "iopub.status.busy": "2023-10-06T23:15:56.081728Z",
     "iopub.status.idle": "2023-10-06T23:15:56.119757Z",
     "shell.execute_reply": "2023-10-06T23:15:56.084949Z",
     "shell.execute_reply.started": "2023-10-06T23:15:56.081947Z"
    },
    "tags": []
   },
   "outputs": [],
   "source": [
    "mi.p_sim"
   ]
  },
  {
   "cell_type": "markdown",
   "metadata": {},
   "source": [
    "## Local Autocorrelation: Hot Spots, Cold Spots, and Spatial Outliers ##\n",
    "\n",
    "In addition to the Global autocorrelation statistics, PySAL has many local\n",
    "autocorrelation statistics. Let's compute a local Moran statistic for the same data"
   ]
  },
  {
   "cell_type": "code",
   "execution_count": null,
   "metadata": {
    "execution": {
     "iopub.execute_input": "2023-10-06T23:15:56.714285Z",
     "iopub.status.busy": "2023-10-06T23:15:56.712242Z",
     "iopub.status.idle": "2023-10-06T23:15:56.724913Z",
     "shell.execute_reply": "2023-10-06T23:15:56.723840Z",
     "shell.execute_reply.started": "2023-10-06T23:15:56.714233Z"
    },
    "tags": []
   },
   "outputs": [],
   "source": [
    "np.random.seed(12345)"
   ]
  },
  {
   "cell_type": "code",
   "execution_count": null,
   "metadata": {
    "execution": {
     "iopub.execute_input": "2023-10-06T23:15:56.862779Z",
     "iopub.status.busy": "2023-10-06T23:15:56.862176Z",
     "iopub.status.idle": "2023-10-06T23:15:56.874486Z",
     "shell.execute_reply": "2023-10-06T23:15:56.873619Z",
     "shell.execute_reply.started": "2023-10-06T23:15:56.862747Z"
    },
    "tags": []
   },
   "outputs": [],
   "source": [
    "wq.transform = 'r'\n",
    "lag_price = lps.weights.lag_spatial(wq, san_diego['median_home_value'])"
   ]
  },
  {
   "cell_type": "code",
   "execution_count": null,
   "metadata": {
    "execution": {
     "iopub.execute_input": "2023-10-06T23:15:57.005707Z",
     "iopub.status.busy": "2023-10-06T23:15:57.005282Z",
     "iopub.status.idle": "2023-10-06T23:15:58.428653Z",
     "shell.execute_reply": "2023-10-06T23:15:58.428260Z",
     "shell.execute_reply.started": "2023-10-06T23:15:57.005681Z"
    },
    "tags": []
   },
   "outputs": [],
   "source": [
    "li = esda.moran.Moran_Local(y, wq)"
   ]
  },
  {
   "cell_type": "markdown",
   "metadata": {},
   "source": [
    "Now, instead of a single $I$ statistic, we have an *array* of local $I_i$\n",
    "statistics, stored in the `.Is` attribute, and p-values from the simulation are\n",
    "in `p_sim`."
   ]
  },
  {
   "cell_type": "code",
   "execution_count": null,
   "metadata": {
    "execution": {
     "iopub.execute_input": "2023-10-06T23:15:58.429781Z",
     "iopub.status.busy": "2023-10-06T23:15:58.429649Z",
     "iopub.status.idle": "2023-10-06T23:15:58.533138Z",
     "shell.execute_reply": "2023-10-06T23:15:58.532720Z",
     "shell.execute_reply.started": "2023-10-06T23:15:58.429771Z"
    },
    "tags": []
   },
   "outputs": [],
   "source": [
    "from splot.esda import moran_scatterplot\n",
    "\n",
    "fig, ax = moran_scatterplot(li)\n",
    "ax.set_xlabel('Price')\n",
    "ax.set_ylabel('Spatial Lag of Price')\n",
    "plt.show()"
   ]
  },
  {
   "cell_type": "code",
   "execution_count": null,
   "metadata": {
    "execution": {
     "iopub.execute_input": "2023-10-06T23:15:58.533867Z",
     "iopub.status.busy": "2023-10-06T23:15:58.533772Z",
     "iopub.status.idle": "2023-10-06T23:15:58.538787Z",
     "shell.execute_reply": "2023-10-06T23:15:58.537626Z",
     "shell.execute_reply.started": "2023-10-06T23:15:58.533857Z"
    },
    "tags": []
   },
   "outputs": [],
   "source": [
    "li.q"
   ]
  },
  {
   "cell_type": "markdown",
   "metadata": {},
   "source": [
    "We can again test for local clustering using permutations, but here we use\n",
    "conditional random permutations (different distributions for each focal location)"
   ]
  },
  {
   "cell_type": "code",
   "execution_count": null,
   "metadata": {
    "execution": {
     "iopub.execute_input": "2023-10-06T23:15:58.540819Z",
     "iopub.status.busy": "2023-10-06T23:15:58.540634Z",
     "iopub.status.idle": "2023-10-06T23:15:58.543880Z",
     "shell.execute_reply": "2023-10-06T23:15:58.543402Z",
     "shell.execute_reply.started": "2023-10-06T23:15:58.540807Z"
    },
    "tags": []
   },
   "outputs": [],
   "source": [
    "(li.p_sim < 0.05).sum()"
   ]
  },
  {
   "cell_type": "code",
   "execution_count": null,
   "metadata": {
    "execution": {
     "iopub.execute_input": "2023-10-06T23:15:58.545376Z",
     "iopub.status.busy": "2023-10-06T23:15:58.544405Z",
     "iopub.status.idle": "2023-10-06T23:15:58.653997Z",
     "shell.execute_reply": "2023-10-06T23:15:58.653671Z",
     "shell.execute_reply.started": "2023-10-06T23:15:58.545348Z"
    },
    "tags": []
   },
   "outputs": [],
   "source": [
    "fig, ax = moran_scatterplot(li, p=0.05)\n",
    "ax.set_xlabel('Price')\n",
    "ax.set_ylabel('Spatial Lag of Price')\n",
    "plt.show()"
   ]
  },
  {
   "cell_type": "markdown",
   "metadata": {},
   "source": [
    "We can distinguish the specific type of local spatial association reflected in\n",
    "the four quadrants of the Moran Scatterplot above:\n",
    "- High-High (upper right)\n",
    "- Low-Low (bottom left)\n",
    "- High-Low (lower right)\n",
    "- Low-High (upper left)"
   ]
  },
  {
   "cell_type": "markdown",
   "metadata": {},
   "source": [
    "Using `splot`, we can also plot these hotspots on the original geodataframe"
   ]
  },
  {
   "cell_type": "code",
   "execution_count": null,
   "metadata": {
    "execution": {
     "iopub.execute_input": "2023-10-06T23:15:58.654589Z",
     "iopub.status.busy": "2023-10-06T23:15:58.654491Z",
     "iopub.status.idle": "2023-10-06T23:15:58.808795Z",
     "shell.execute_reply": "2023-10-06T23:15:58.808429Z",
     "shell.execute_reply.started": "2023-10-06T23:15:58.654580Z"
    },
    "tags": []
   },
   "outputs": [],
   "source": [
    "from splot.esda import lisa_cluster\n",
    "lisa_cluster(li, san_diego, p=0.05, figsize = (9,9))\n",
    "plt.show()"
   ]
  },
  {
   "cell_type": "code",
   "execution_count": null,
   "metadata": {
    "execution": {
     "iopub.execute_input": "2023-10-06T23:15:58.810023Z",
     "iopub.status.busy": "2023-10-06T23:15:58.809891Z",
     "iopub.status.idle": "2023-10-06T23:15:59.227854Z",
     "shell.execute_reply": "2023-10-06T23:15:59.227381Z",
     "shell.execute_reply.started": "2023-10-06T23:15:58.809996Z"
    },
    "tags": []
   },
   "outputs": [],
   "source": [
    "from splot.esda import plot_local_autocorrelation\n",
    "plot_local_autocorrelation(li, san_diego, 'median_home_value')"
   ]
  },
  {
   "cell_type": "code",
   "execution_count": null,
   "metadata": {},
   "outputs": [],
   "source": []
  },
  {
   "cell_type": "code",
   "execution_count": null,
   "metadata": {},
   "outputs": [],
   "source": []
  },
  {
   "cell_type": "code",
   "execution_count": null,
   "metadata": {},
   "outputs": [],
   "source": []
  }
 ],
 "metadata": {
  "kernelspec": {
   "display_name": "Python [conda env:pysal-workshop]",
   "language": "python",
   "name": "conda-env-pysal-workshop-py"
  },
  "language_info": {
   "codemirror_mode": {
    "name": "ipython",
    "version": 3
   },
   "file_extension": ".py",
   "mimetype": "text/x-python",
   "name": "python",
   "nbconvert_exporter": "python",
   "pygments_lexer": "ipython3",
   "version": "3.9.13"
  },
  "widgets": {
   "application/vnd.jupyter.widget-state+json": {
    "state": {},
    "version_major": 2,
    "version_minor": 0
   }
  }
 },
 "nbformat": 4,
 "nbformat_minor": 4
}
