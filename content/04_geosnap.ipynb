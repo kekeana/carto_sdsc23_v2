{
 "cells": [
  {
   "cell_type": "markdown",
   "id": "aee16e12-0d4b-4ec6-8cc5-f57d225bc210",
   "metadata": {},
   "source": [
    "# Open Tools for Urban, Regional, and Neighborhood Science\n",
    "\n",
    "**A Gentle Introduction to `geosnap` for Neighborhood Analytics**\n",
    "\n",
    "https://github.com/oturns/geosnap"
   ]
  },
  {
   "cell_type": "markdown",
   "id": "e451a5f2-bbac-476e-a2a7-3afa66c9ce17",
   "metadata": {},
   "source": [
    "### Resources:\n",
    "\n",
    "- [API Docs](https://oturns.github.io/geosnap/api.html)\n",
    "- [Tutorial Materials](https://github.com/knaaptime/pysal-narsc22/)\n",
    "- [Tutorial Video](https://www.youtube.com/watch?v=4AHJVMs7iH4)"
   ]
  },
  {
   "cell_type": "markdown",
   "id": "11ea0904-b76e-446f-a287-3748cb017e48",
   "metadata": {},
   "source": [
    "`geosnap` - the geospatial neighborhood analysis package - provides a suite of tools for understanding the composition and extent of [endogenous] neighborhoods and regions in a study area. It provides: \n",
    "\n",
    " - simple access to commonly-used datasets in urban and regional analyses (https://open.quiltdata.com/b/spatial-ucr)\n",
    "     - demographic data (Census/ACS)\n",
    "     - employment (LEHD)\n",
    "     - environment (EPA)\n",
    "     - travel infrastructure (OSM)\n",
    "     - public education systems (NCES)\n",
    "     - educational acievement (SEDA)\n",
    "     - land use/land cover (NLCD)\n",
    "\n",
    " - an easy interface to build geodemographic typologies\n",
    "     - classic aspatial typologies\n",
    "     - constrained homogenous regions\n",
    "\n",
    " - built-in functionality to facilitate spatiotemporal analysis\n",
    "     - within time-period standardization\n",
    "     - boundary harmonization\n",
    "     - inflation adjustment\n",
    "\n",
    " - bespoke plotting tools to help visualize neighborhood dynamics\n",
    "    - temporally-static choropleth mapping\n",
    "    - animated mapping\n",
    "\n",
    " - state-of-the-art techniques for modeling neighborhood change over time\n",
    "     - spatial Markov transition models\n",
    "     - sequence analysis"
   ]
  },
  {
   "cell_type": "code",
   "execution_count": null,
   "id": "f4e89a03-3328-4224-9420-efc7e326a7d1",
   "metadata": {},
   "outputs": [],
   "source": [
    "from geosnap import DataStore\n",
    "from geosnap.io import get_census, get_acs, get_nces\n",
    "import geopandas as gpd\n",
    "import pandas as pd\n",
    "import numpy as np\n",
    "import matplotlib.pyplot as plt"
   ]
  },
  {
   "cell_type": "markdown",
   "id": "7a9b0264-000b-4b52-960d-015e9e2006c8",
   "metadata": {},
   "source": [
    "## Datasets"
   ]
  },
  {
   "cell_type": "code",
   "execution_count": null,
   "id": "9e504872-52c7-4031-8186-1728c61afc16",
   "metadata": {},
   "outputs": [],
   "source": [
    "datasets = DataStore(\"data/geosnap/\")"
   ]
  },
  {
   "cell_type": "code",
   "execution_count": null,
   "id": "8c31f7d5-fbf5-45ed-a740-ce39fbc60627",
   "metadata": {},
   "outputs": [],
   "source": [
    "dir(datasets)"
   ]
  },
  {
   "cell_type": "code",
   "execution_count": null,
   "id": "4718d9ab-9d0d-49e5-9777-805d71cbcf53",
   "metadata": {},
   "outputs": [],
   "source": [
    "datasets.msas()"
   ]
  },
  {
   "cell_type": "code",
   "execution_count": null,
   "id": "9535322c-3214-4cb8-af2b-33335b154707",
   "metadata": {},
   "outputs": [],
   "source": [
    "datasets.msas().plot()"
   ]
  },
  {
   "cell_type": "code",
   "execution_count": null,
   "id": "a8613555-25e5-4c00-a675-967095bff8fd",
   "metadata": {},
   "outputs": [],
   "source": [
    "datasets.msas().explore()"
   ]
  },
  {
   "cell_type": "code",
   "execution_count": null,
   "id": "b4c156b7-886b-4914-a3a6-2c2941e0c9d5",
   "metadata": {},
   "outputs": [],
   "source": []
  },
  {
   "cell_type": "code",
   "execution_count": null,
   "id": "3e4444ea-4e9d-47d5-ae6e-7bcdf976826c",
   "metadata": {},
   "outputs": [],
   "source": []
  },
  {
   "cell_type": "code",
   "execution_count": null,
   "id": "a3929161-a052-4339-9e48-309d4ac46827",
   "metadata": {},
   "outputs": [],
   "source": [
    "counties = ['06075', '06001']"
   ]
  },
  {
   "cell_type": "code",
   "execution_count": null,
   "id": "98f50bae-7ca7-40c5-9452-36156858e7df",
   "metadata": {},
   "outputs": [],
   "source": [
    "get_acs?"
   ]
  },
  {
   "cell_type": "code",
   "execution_count": null,
   "id": "8b5c4963-1f6c-4c9d-a1a7-762a760c8938",
   "metadata": {},
   "outputs": [],
   "source": [
    "acs_teens = get_acs(datasets, county_fips=counties, years=[2016,2017,2018], level='tract')"
   ]
  },
  {
   "cell_type": "code",
   "execution_count": null,
   "id": "665d2dbf-ad9b-4499-94f7-27c766ebae80",
   "metadata": {},
   "outputs": [],
   "source": [
    "acs_teens.head()"
   ]
  },
  {
   "cell_type": "code",
   "execution_count": null,
   "id": "6f6e4b32-2ce9-4107-8075-bd62d567a461",
   "metadata": {},
   "outputs": [],
   "source": [
    "acs_teens[acs_teens.year==2018].explore('p_nonhisp_white_persons', scheme='quantiles', tiles='CartoDB Positron', cmap='GnBu')"
   ]
  },
  {
   "cell_type": "code",
   "execution_count": null,
   "id": "b7d36653-fe73-49c9-9ac2-adcf3e661955",
   "metadata": {},
   "outputs": [],
   "source": [
    "acs_teens.year.unique()"
   ]
  },
  {
   "cell_type": "code",
   "execution_count": null,
   "id": "480d5d19-0d26-4906-86b0-df66f4fb9f4e",
   "metadata": {},
   "outputs": [],
   "source": [
    "acs_teens[acs_teens.year==2018].shape"
   ]
  },
  {
   "cell_type": "code",
   "execution_count": null,
   "id": "5b4b8c30-8c12-4294-bda3-808b70b2edcd",
   "metadata": {},
   "outputs": [],
   "source": [
    "for year in acs_teens.year.unique():\n",
    "    print(acs_teens[acs_teens.year==year].shape[0])"
   ]
  },
  {
   "cell_type": "code",
   "execution_count": null,
   "id": "4eb6073e-8f70-4343-9d65-fc35ae956246",
   "metadata": {},
   "outputs": [],
   "source": [
    "census = get_census(datasets, county_fips=counties)"
   ]
  },
  {
   "cell_type": "code",
   "execution_count": null,
   "id": "c12c46fc-6381-476e-9315-00e3b0bfbe9e",
   "metadata": {},
   "outputs": [],
   "source": [
    "census.year.unique()"
   ]
  },
  {
   "cell_type": "code",
   "execution_count": null,
   "id": "4d8b41e2-f0ab-4f92-817b-3e9914899ca3",
   "metadata": {},
   "outputs": [],
   "source": [
    "for year in census.year.unique():\n",
    "    print(census[census.year==year].shape[0])"
   ]
  },
  {
   "cell_type": "markdown",
   "id": "88cc7c03-5748-4af1-b6bd-ed035bbf9763",
   "metadata": {},
   "source": [
    "## Standardizing Boundaries Over Time"
   ]
  },
  {
   "cell_type": "code",
   "execution_count": null,
   "id": "7f449bdc-f24c-4d87-8ad3-0e651ea8f135",
   "metadata": {},
   "outputs": [],
   "source": [
    "from geosnap.harmonize import harmonize"
   ]
  },
  {
   "cell_type": "code",
   "execution_count": null,
   "id": "2e8e6162-0a3f-43da-bfff-42d705806782",
   "metadata": {},
   "outputs": [],
   "source": [
    "harmonize?"
   ]
  },
  {
   "cell_type": "code",
   "execution_count": null,
   "id": "72b8fc8f-e7d5-46d4-9859-9fedd761e84c",
   "metadata": {
    "tags": []
   },
   "outputs": [],
   "source": [
    "columns = ['median_household_income', \n",
    "           'median_home_value', \n",
    "           'p_asian_persons', \n",
    "           'p_hispanic_persons', \n",
    "           'p_nonhisp_black_persons', \n",
    "           'p_nonhisp_white_persons']"
   ]
  },
  {
   "cell_type": "code",
   "execution_count": null,
   "id": "97e8b422-2e67-4d29-a19c-82b9021431b1",
   "metadata": {},
   "outputs": [],
   "source": [
    "census = harmonize(census.set_index('geoid'), \n",
    "                   target_year=2010, \n",
    "                   intensive_variables=columns, \n",
    "                   extensive_variables=['n_total_pop'])"
   ]
  },
  {
   "cell_type": "code",
   "execution_count": null,
   "id": "f6c9c438-4e68-4ec7-999c-43bff5a9a779",
   "metadata": {},
   "outputs": [],
   "source": [
    "census = census.reset_index()"
   ]
  },
  {
   "cell_type": "code",
   "execution_count": null,
   "id": "2715569c-fde0-439c-ab6b-95a841e2d56d",
   "metadata": {},
   "outputs": [],
   "source": [
    "for year in census.year.unique():\n",
    "    print(census[census.year==year].shape[0])"
   ]
  },
  {
   "cell_type": "code",
   "execution_count": null,
   "id": "76770072-ea5e-4c93-8c5c-de5d136c85f7",
   "metadata": {},
   "outputs": [],
   "source": [
    "census[census.year==1990].explore('p_nonhisp_white_persons', scheme='quantiles', k=6, cmap='GnBu')"
   ]
  },
  {
   "cell_type": "code",
   "execution_count": null,
   "id": "2e6c83d2-d177-403c-bdd8-596297c80317",
   "metadata": {},
   "outputs": [],
   "source": []
  },
  {
   "cell_type": "markdown",
   "id": "81675010-3786-416c-aa19-939413ac19f3",
   "metadata": {},
   "source": [
    "## Geodemographic Neighborhood Types"
   ]
  },
  {
   "cell_type": "code",
   "execution_count": null,
   "id": "39d1eaa2-98b6-4d33-9832-369e9dadf870",
   "metadata": {},
   "outputs": [],
   "source": [
    "from geosnap.analyze import cluster, transition\n",
    "from geosnap.visualize import plot_timeseries, plot_transition_matrix, animate_timeseries"
   ]
  },
  {
   "cell_type": "code",
   "execution_count": null,
   "id": "9ca3bb3e-5abe-44c3-8d19-072cea5d4df2",
   "metadata": {},
   "outputs": [],
   "source": [
    "import seaborn as sns"
   ]
  },
  {
   "cell_type": "code",
   "execution_count": null,
   "id": "f7686b07-b458-4ab4-b68e-db79e9576f81",
   "metadata": {},
   "outputs": [],
   "source": [
    "acs18 = acs_teens[acs_teens.year==2018]"
   ]
  },
  {
   "cell_type": "code",
   "execution_count": null,
   "id": "b05611de-46e7-4809-8732-239243027e31",
   "metadata": {},
   "outputs": [],
   "source": [
    "for col in columns:\n",
    "    ax = acs18.plot(col, scheme='quantiles', k=6, )\n",
    "    ax.set_title(col)"
   ]
  },
  {
   "cell_type": "code",
   "execution_count": null,
   "id": "853e70a3-24e6-43bf-8517-2c86e1af0484",
   "metadata": {},
   "outputs": [],
   "source": [
    "sf18_kmeans = cluster(acs18, columns=columns, method='kmeans', n_clusters=6)"
   ]
  },
  {
   "cell_type": "code",
   "execution_count": null,
   "id": "a78459d8-a1cd-40d1-bfcc-bb791291d4f9",
   "metadata": {},
   "outputs": [],
   "source": [
    "sf18_kmeans.head()"
   ]
  },
  {
   "cell_type": "code",
   "execution_count": null,
   "id": "80d5cbe8-e67c-4343-b5ad-34edc3370f82",
   "metadata": {
    "tags": []
   },
   "outputs": [],
   "source": [
    "from geosnap import visualize as gvz"
   ]
  },
  {
   "cell_type": "code",
   "execution_count": null,
   "id": "9364ba9a-105a-419f-80d3-2fcef7ab425f",
   "metadata": {
    "tags": []
   },
   "outputs": [],
   "source": [
    "gvz.plot_violins_by_cluster?"
   ]
  },
  {
   "cell_type": "code",
   "execution_count": null,
   "id": "94ff9417-9333-45b9-b506-8bc6c5dc2fff",
   "metadata": {},
   "outputs": [],
   "source": [
    "sns.set_style('whitegrid')"
   ]
  },
  {
   "cell_type": "code",
   "execution_count": null,
   "id": "7252593a-89e4-4494-a692-60f62d19a24c",
   "metadata": {
    "tags": []
   },
   "outputs": [],
   "source": [
    "gvz.plot_violins_by_cluster(sf18_kmeans, columns, cluster_col='kmeans', violin_kwargs={'cmap':'Set1'}, nrows=3, ncols=2)"
   ]
  },
  {
   "cell_type": "code",
   "execution_count": null,
   "id": "af731c05-e124-4a01-81b4-1efe60c0d0ee",
   "metadata": {
    "tags": []
   },
   "outputs": [],
   "source": [
    "sf18_kmeans.explore('kmeans', categorical=True, tiles='Stamen Toner Lite', tooltip=columns)"
   ]
  },
  {
   "cell_type": "code",
   "execution_count": null,
   "id": "9a6eecc1-072e-4e9d-bc76-f846d5fb9d3c",
   "metadata": {
    "tags": []
   },
   "outputs": [],
   "source": [
    "sf18_ward = cluster(acs18, columns=columns, method='ward', n_clusters=6,)"
   ]
  },
  {
   "cell_type": "code",
   "execution_count": null,
   "id": "a69913b3-51d1-4fc2-a823-17c4cc331f77",
   "metadata": {
    "tags": []
   },
   "outputs": [],
   "source": [
    "sf18_ward.explore('ward', categorical=True, tiles='Stamen Toner Lite', tooltip=columns)"
   ]
  },
  {
   "cell_type": "code",
   "execution_count": null,
   "id": "75b733cb-131a-4e0e-8ef3-b13690eefc3b",
   "metadata": {
    "tags": []
   },
   "outputs": [],
   "source": [
    "sf18_kmeans10 = cluster(acs18, columns=columns, method='kmeans', n_clusters=10)"
   ]
  },
  {
   "cell_type": "code",
   "execution_count": null,
   "id": "7a0317f0-87f7-4c4f-8d2b-c1f391dd1a43",
   "metadata": {
    "tags": []
   },
   "outputs": [],
   "source": [
    "gvz.plot_violins_by_cluster(sf18_kmeans10, columns, cluster_col='kmeans', nrows=3, ncols=2)"
   ]
  },
  {
   "cell_type": "code",
   "execution_count": null,
   "id": "08dd2b8c-90b2-40c1-a3b9-9a3c51e1030e",
   "metadata": {
    "tags": []
   },
   "outputs": [],
   "source": [
    "sf18_kmeans10.explore('kmeans', categorical=True, tiles='Stamen Toner Lite', tooltip=columns)"
   ]
  },
  {
   "cell_type": "code",
   "execution_count": null,
   "id": "0595c5ab-f2e0-41f9-a2a2-aa961fab22c6",
   "metadata": {
    "tags": []
   },
   "outputs": [],
   "source": [
    "from geosnap.analyze import regionalize"
   ]
  },
  {
   "cell_type": "code",
   "execution_count": null,
   "id": "a1d78fd2-f8e2-4e45-805d-4c3740d27ed6",
   "metadata": {
    "tags": []
   },
   "outputs": [],
   "source": [
    "sf_regions = regionalize(acs18, \n",
    "                         columns=columns, \n",
    "                         method='ward_spatial', \n",
    "                         n_clusters=10)"
   ]
  },
  {
   "cell_type": "code",
   "execution_count": null,
   "id": "10b26aa5-62c5-40d7-80a6-20724ec4fadd",
   "metadata": {
    "tags": []
   },
   "outputs": [],
   "source": [
    "sf_regions.explore('ward_spatial', categorical=True, tiles='Stamen Toner Lite', tooltip=columns)"
   ]
  },
  {
   "cell_type": "code",
   "execution_count": null,
   "id": "64cb11ce-7aab-42df-8791-01260a84682d",
   "metadata": {
    "tags": []
   },
   "outputs": [],
   "source": [
    "gvz.plot_violins_by_cluster(sf_regions, columns, 'ward_spatial', nrows=3, ncols=2)"
   ]
  },
  {
   "cell_type": "code",
   "execution_count": null,
   "id": "8bebe2ef-d230-4f00-ab52-2267874bc96b",
   "metadata": {},
   "outputs": [],
   "source": []
  },
  {
   "cell_type": "markdown",
   "id": "741ffd61-b504-4c6e-8f6a-1077327343df",
   "metadata": {},
   "source": [
    "## Modeling Neighborhood Change"
   ]
  },
  {
   "cell_type": "code",
   "execution_count": null,
   "id": "882de81d-c9c7-4acf-bfeb-3bc9a12ef0ab",
   "metadata": {
    "tags": []
   },
   "outputs": [],
   "source": [
    "sf_types_kmeans = cluster(acs_teens, columns=columns, method='kmeans', n_clusters=6)"
   ]
  },
  {
   "cell_type": "code",
   "execution_count": null,
   "id": "0769bfc9-2c88-4e2c-b8ab-ca0812e1b787",
   "metadata": {
    "tags": []
   },
   "outputs": [],
   "source": [
    "plot_timeseries?"
   ]
  },
  {
   "cell_type": "code",
   "execution_count": null,
   "id": "7100d262-8ca5-4269-988d-bcb22d80a619",
   "metadata": {
    "tags": []
   },
   "outputs": [],
   "source": [
    "import contextily as ctx"
   ]
  },
  {
   "cell_type": "code",
   "execution_count": null,
   "id": "59bcd120-5c94-4713-8dc0-bc96dc6654f5",
   "metadata": {
    "tags": []
   },
   "outputs": [],
   "source": [
    "plot_timeseries(sf_types_kmeans, column='kmeans', categorical=True, ncols=3, nrows=1, figsize=(15, 5), ctxmap=ctx.providers.CartoDB.Positron)"
   ]
  },
  {
   "cell_type": "code",
   "execution_count": null,
   "id": "7a10ec9b-1ede-4463-b4e6-4ea4b7723d80",
   "metadata": {
    "tags": []
   },
   "outputs": [],
   "source": [
    "animate_timeseries(\n",
    "    sf_types_kmeans,\n",
    "    column=\"kmeans\",\n",
    "    categorical=True,\n",
    "    filename=\"sf_kmeans.gif\",\n",
    "    figsize=(12, 8),\n",
    "    fps=3,\n",
    "    ctxmap=ctx.providers.CartoDB.Positron,\n",
    ")"
   ]
  },
  {
   "cell_type": "code",
   "execution_count": null,
   "id": "b3ee80de-2472-4ae8-ac88-08a7b7456923",
   "metadata": {
    "tags": []
   },
   "outputs": [],
   "source": [
    "from IPython.display import Image"
   ]
  },
  {
   "cell_type": "code",
   "execution_count": null,
   "id": "86c9a6ca-a368-4a74-9513-1686ec9a87a7",
   "metadata": {
    "tags": []
   },
   "outputs": [],
   "source": [
    "Image('sf_kmeans.gif')"
   ]
  },
  {
   "cell_type": "code",
   "execution_count": null,
   "id": "9c5b1d0a-9a24-43e4-a730-f243e3a20dda",
   "metadata": {
    "tags": []
   },
   "outputs": [],
   "source": [
    "spmk = transition(sf_types_kmeans, cluster_col='kmeans')"
   ]
  },
  {
   "cell_type": "code",
   "execution_count": null,
   "id": "9837661e-46e7-43fe-b0b2-a76c0849e798",
   "metadata": {
    "tags": []
   },
   "outputs": [],
   "source": [
    "type(spmk)"
   ]
  },
  {
   "cell_type": "code",
   "execution_count": null,
   "id": "10b57c2a-bc8c-4065-a6d9-9619a375dac4",
   "metadata": {
    "tags": []
   },
   "outputs": [],
   "source": [
    "spmk.p"
   ]
  },
  {
   "cell_type": "code",
   "execution_count": null,
   "id": "7de73413-44a7-4a73-a290-fb4c022b8c71",
   "metadata": {
    "tags": []
   },
   "outputs": [],
   "source": [
    "spmk.LR_p_value  # strong evidence of spatial dependence in transition dynamics"
   ]
  },
  {
   "cell_type": "code",
   "execution_count": null,
   "id": "e06601a2-9a15-4f4e-8fd6-bf991489fc62",
   "metadata": {
    "tags": []
   },
   "outputs": [],
   "source": [
    "plot_transition_matrix(sf_types_kmeans, cluster_col='kmeans')"
   ]
  },
  {
   "cell_type": "code",
   "execution_count": null,
   "id": "aa910662-52c0-4006-b104-7670ad4936d9",
   "metadata": {},
   "outputs": [],
   "source": []
  },
  {
   "cell_type": "code",
   "execution_count": null,
   "id": "ec9654b2-c24b-48fd-8e2f-8239117d17d5",
   "metadata": {},
   "outputs": [],
   "source": []
  },
  {
   "cell_type": "markdown",
   "id": "37eec29c-a237-4a99-9dcb-3a11b525b462",
   "metadata": {},
   "source": [
    "## Accessibility Isochrones"
   ]
  },
  {
   "cell_type": "code",
   "execution_count": null,
   "id": "cfd433eb-e362-460d-8887-9f23351ee484",
   "metadata": {
    "tags": []
   },
   "outputs": [],
   "source": [
    "import pandana as pdna"
   ]
  },
  {
   "cell_type": "markdown",
   "id": "f9eb23de-0874-4455-a1f1-24d0a4e348db",
   "metadata": {},
   "source": [
    "https://github.com/udst/pandana"
   ]
  },
  {
   "cell_type": "code",
   "execution_count": null,
   "id": "4d13dd59-628f-44ce-9200-9cfc6ed7d6cc",
   "metadata": {
    "tags": []
   },
   "outputs": [],
   "source": [
    "sfnet = pdna.Network.from_hdf5(\"data/41860.h5\")"
   ]
  },
  {
   "cell_type": "code",
   "execution_count": null,
   "id": "b6e88868-e9be-466a-9c17-25ff7fa1fa6a",
   "metadata": {
    "tags": []
   },
   "outputs": [],
   "source": [
    "from geosnap.analyze import isochrone, isochrones"
   ]
  },
  {
   "cell_type": "code",
   "execution_count": null,
   "id": "947f30c2-933f-45fc-9e11-695c1e8dd86c",
   "metadata": {
    "tags": []
   },
   "outputs": [],
   "source": [
    "from geopandas.tools import geocode"
   ]
  },
  {
   "cell_type": "code",
   "execution_count": null,
   "id": "7d972625-75f4-4277-9420-9ac96344f785",
   "metadata": {
    "tags": []
   },
   "outputs": [],
   "source": [
    "import geopy\n",
    "geopy.geocoders.options.default_user_agent = \"geosnap-demo\""
   ]
  },
  {
   "cell_type": "code",
   "execution_count": null,
   "id": "eaf393b7-85fa-4611-b45e-3b8a16c34ae4",
   "metadata": {
    "tags": []
   },
   "outputs": [],
   "source": [
    "berkeley = geocode('university of california, berkeley', provider='Nominatim', user_agent=\"geosnap\")"
   ]
  },
  {
   "cell_type": "code",
   "execution_count": null,
   "id": "b7c3d5ec-0b09-4eec-955a-6652d2f82ece",
   "metadata": {
    "tags": []
   },
   "outputs": [],
   "source": [
    "berkeley.explore()"
   ]
  },
  {
   "cell_type": "code",
   "execution_count": null,
   "id": "96389faa-8e1e-4b42-8292-05886028ca9b",
   "metadata": {
    "tags": []
   },
   "outputs": [],
   "source": [
    "isochrone?"
   ]
  },
  {
   "cell_type": "code",
   "execution_count": null,
   "id": "8de9397e-98c7-4e84-84c1-6210309a6dc8",
   "metadata": {
    "tags": []
   },
   "outputs": [],
   "source": [
    "# must provide the nearest node_id to the isochrone function\n",
    "sfnet.get_node_ids(berkeley.geometry.x, berkeley.geometry.y)"
   ]
  },
  {
   "cell_type": "code",
   "execution_count": null,
   "id": "3418683a-9e78-428c-9dcc-126cdc48150d",
   "metadata": {
    "tags": []
   },
   "outputs": [],
   "source": [
    "iso_berkeley = isochrone(sfnet.get_node_ids(berkeley.geometry.x, berkeley.geometry.y)[0], sfnet, [500, 1000, 2000, 5000])"
   ]
  },
  {
   "cell_type": "code",
   "execution_count": null,
   "id": "a97e2fd8-70d9-4f0e-95a0-334eacdc00b5",
   "metadata": {
    "tags": []
   },
   "outputs": [],
   "source": [
    "iso_berkeley.explore()"
   ]
  },
  {
   "cell_type": "code",
   "execution_count": null,
   "id": "31b15929-ad39-420c-8de7-17adc053b58f",
   "metadata": {
    "tags": []
   },
   "outputs": [],
   "source": [
    "isochrones?"
   ]
  },
  {
   "cell_type": "code",
   "execution_count": null,
   "id": "a6c2ffdc-b21c-49a6-a936-858e3c5c3f1b",
   "metadata": {
    "tags": []
   },
   "outputs": [],
   "source": [
    "schools = datasets.nces(dataset='schools')"
   ]
  },
  {
   "cell_type": "code",
   "execution_count": null,
   "id": "6ff5b706-aaca-4ca2-b8b7-054b566d3324",
   "metadata": {
    "tags": []
   },
   "outputs": [],
   "source": [
    "schools.plot()"
   ]
  },
  {
   "cell_type": "code",
   "execution_count": null,
   "id": "da71a544-bea1-4dde-95a3-9f06033ebd9a",
   "metadata": {
    "tags": []
   },
   "outputs": [],
   "source": [
    "sf_schools = schools[schools.intersects(census.to_crs(schools.crs).unary_union)]"
   ]
  },
  {
   "cell_type": "code",
   "execution_count": null,
   "id": "e8f4e852-587b-44f5-8832-4bffa5199a55",
   "metadata": {
    "tags": []
   },
   "outputs": [],
   "source": [
    "sf_schools.plot()"
   ]
  },
  {
   "cell_type": "code",
   "execution_count": null,
   "id": "c944c7e0-9761-46b1-9577-4d567d88ff89",
   "metadata": {
    "tags": []
   },
   "outputs": [],
   "source": [
    "iso_2km = isochrones(sf_schools.head(20), network=sfnet, threshold=2000)"
   ]
  },
  {
   "cell_type": "code",
   "execution_count": null,
   "id": "84907760-ccd3-4fdb-977c-05a5f1f9b8b9",
   "metadata": {
    "tags": []
   },
   "outputs": [],
   "source": [
    "m = sf_schools.head(20).explore()\n",
    "iso_2km.explore(m=m)"
   ]
  },
  {
   "cell_type": "code",
   "execution_count": null,
   "id": "db7f374e-55ca-40c6-8e0b-c12c8b97fb99",
   "metadata": {},
   "outputs": [],
   "source": []
  }
 ],
 "metadata": {
  "kernelspec": {
   "display_name": "Python [conda env:pysal_carto_sdss]",
   "language": "python",
   "name": "conda-env-pysal_carto_sdss-py"
  },
  "language_info": {
   "codemirror_mode": {
    "name": "ipython",
    "version": 3
   },
   "file_extension": ".py",
   "mimetype": "text/x-python",
   "name": "python",
   "nbconvert_exporter": "python",
   "pygments_lexer": "ipython3",
   "version": "3.11.6"
  },
  "widgets": {
   "application/vnd.jupyter.widget-state+json": {
    "state": {
     "03ac73b71f3c456a8f227dfb0e102fda": {
      "model_module": "@jupyter-widgets/base",
      "model_module_version": "2.0.0",
      "model_name": "LayoutModel",
      "state": {}
     },
     "0d4f2ed5ac454771bdba8a32adb423c0": {
      "model_module": "@jupyter-widgets/controls",
      "model_module_version": "2.0.0",
      "model_name": "HBoxModel",
      "state": {
       "children": [
        "IPY_MODEL_dc3f9236120444ac98c93a8ad856a51c",
        "IPY_MODEL_72764005319b4a4e924d5f8b3a10dd9f",
        "IPY_MODEL_4a54a0015a7046cbaf0916ca1afbe06c"
       ],
       "layout": "IPY_MODEL_e706a1c9352a4c46939f4061721887d2"
      }
     },
     "0edea8824a804a80a136a5601f697954": {
      "model_module": "@jupyter-widgets/base",
      "model_module_version": "2.0.0",
      "model_name": "LayoutModel",
      "state": {}
     },
     "0f97498a812349f0968dde9879b1699f": {
      "model_module": "@jupyter-widgets/controls",
      "model_module_version": "2.0.0",
      "model_name": "ProgressStyleModel",
      "state": {
       "description_width": ""
      }
     },
     "15356f9b1e5244fb8ac76dccdcdf2d2e": {
      "model_module": "@jupyter-widgets/base",
      "model_module_version": "2.0.0",
      "model_name": "LayoutModel",
      "state": {}
     },
     "2b4b06d565124a169931ae790ca418b0": {
      "model_module": "@jupyter-widgets/controls",
      "model_module_version": "2.0.0",
      "model_name": "HTMLStyleModel",
      "state": {
       "description_width": "",
       "font_size": null,
       "text_color": null
      }
     },
     "379423d35c124b11bfb34b90daf6e004": {
      "model_module": "@jupyter-widgets/controls",
      "model_module_version": "2.0.0",
      "model_name": "HBoxModel",
      "state": {
       "children": [
        "IPY_MODEL_c5ef12662ee24064aaaf9a28b38f493a",
        "IPY_MODEL_caece52fa0a94bf5b0b546bc89c3227b",
        "IPY_MODEL_7c11277468fc4620ac26e6cefe50adce"
       ],
       "layout": "IPY_MODEL_0edea8824a804a80a136a5601f697954"
      }
     },
     "460b95a8d0e042e1a7180ecf0ba57ace": {
      "model_module": "@jupyter-widgets/base",
      "model_module_version": "2.0.0",
      "model_name": "LayoutModel",
      "state": {}
     },
     "489ec93681d240ddb37f24eb0938acbc": {
      "model_module": "@jupyter-widgets/controls",
      "model_module_version": "2.0.0",
      "model_name": "ProgressStyleModel",
      "state": {
       "description_width": ""
      }
     },
     "4a54a0015a7046cbaf0916ca1afbe06c": {
      "model_module": "@jupyter-widgets/controls",
      "model_module_version": "2.0.0",
      "model_name": "HTMLModel",
      "state": {
       "layout": "IPY_MODEL_460b95a8d0e042e1a7180ecf0ba57ace",
       "style": "IPY_MODEL_b969ae8f020c4f9a95c1583bde72cb45",
       "value": " 2/2 [00:00&lt;00:00,  4.35it/s]"
      }
     },
     "672a42316e224be89a0a528f8231e3bf": {
      "model_module": "@jupyter-widgets/controls",
      "model_module_version": "2.0.0",
      "model_name": "HTMLStyleModel",
      "state": {
       "description_width": "",
       "font_size": null,
       "text_color": null
      }
     },
     "72764005319b4a4e924d5f8b3a10dd9f": {
      "model_module": "@jupyter-widgets/controls",
      "model_module_version": "2.0.0",
      "model_name": "FloatProgressModel",
      "state": {
       "bar_style": "success",
       "layout": "IPY_MODEL_e7d562c8ccdc4c10b17b0a7398cf1abb",
       "max": 2,
       "style": "IPY_MODEL_489ec93681d240ddb37f24eb0938acbc",
       "value": 2
      }
     },
     "7c11277468fc4620ac26e6cefe50adce": {
      "model_module": "@jupyter-widgets/controls",
      "model_module_version": "2.0.0",
      "model_name": "HTMLModel",
      "state": {
       "layout": "IPY_MODEL_de82cb0da42a4de98a00fd08ac90f88e",
       "style": "IPY_MODEL_d7a91f82137647c7bf9f25f44a30ce6e",
       "value": " 20/20 [00:43&lt;00:00,  2.12s/it]"
      }
     },
     "7ecc41b1dd1b4aa5acf4675d0c206949": {
      "model_module": "@jupyter-widgets/base",
      "model_module_version": "2.0.0",
      "model_name": "LayoutModel",
      "state": {}
     },
     "80ec4fef07d94d3ca1bf032c0a82fbe2": {
      "model_module": "@jupyter-widgets/controls",
      "model_module_version": "2.0.0",
      "model_name": "HTMLStyleModel",
      "state": {
       "description_width": "",
       "font_size": null,
       "text_color": null
      }
     },
     "87c93080af794ff9a840aef4151a00b9": {
      "model_module": "@jupyter-widgets/base",
      "model_module_version": "2.0.0",
      "model_name": "LayoutModel",
      "state": {}
     },
     "956ceee12be34e109a05ab47154e93b9": {
      "model_module": "@jupyter-widgets/base",
      "model_module_version": "2.0.0",
      "model_name": "LayoutModel",
      "state": {}
     },
     "964dc0e828934e219b8846c109b4da8b": {
      "model_module": "@jupyter-widgets/base",
      "model_module_version": "2.0.0",
      "model_name": "LayoutModel",
      "state": {}
     },
     "9ce295ac6b914491bc461f8205a7529c": {
      "model_module": "@jupyter-widgets/controls",
      "model_module_version": "2.0.0",
      "model_name": "FloatProgressModel",
      "state": {
       "bar_style": "success",
       "layout": "IPY_MODEL_03ac73b71f3c456a8f227dfb0e102fda",
       "max": 1,
       "style": "IPY_MODEL_bae736963185485b97594ee180f0e337",
       "value": 1
      }
     },
     "af5ba0d692bb470493b8d0929f47ccbb": {
      "model_module": "@jupyter-widgets/controls",
      "model_module_version": "2.0.0",
      "model_name": "HBoxModel",
      "state": {
       "children": [
        "IPY_MODEL_bcdaf7cd669d4f11aec9eb679f0e0171",
        "IPY_MODEL_9ce295ac6b914491bc461f8205a7529c",
        "IPY_MODEL_bd36ebef7d444f5880a5f7c618a11cd2"
       ],
       "layout": "IPY_MODEL_956ceee12be34e109a05ab47154e93b9"
      }
     },
     "b5fe952d4299415d9f152091260c1e23": {
      "model_module": "@jupyter-widgets/base",
      "model_module_version": "2.0.0",
      "model_name": "LayoutModel",
      "state": {}
     },
     "b969ae8f020c4f9a95c1583bde72cb45": {
      "model_module": "@jupyter-widgets/controls",
      "model_module_version": "2.0.0",
      "model_name": "HTMLStyleModel",
      "state": {
       "description_width": "",
       "font_size": null,
       "text_color": null
      }
     },
     "bae736963185485b97594ee180f0e337": {
      "model_module": "@jupyter-widgets/controls",
      "model_module_version": "2.0.0",
      "model_name": "ProgressStyleModel",
      "state": {
       "description_width": ""
      }
     },
     "bcdaf7cd669d4f11aec9eb679f0e0171": {
      "model_module": "@jupyter-widgets/controls",
      "model_module_version": "2.0.0",
      "model_name": "HTMLModel",
      "state": {
       "layout": "IPY_MODEL_87c93080af794ff9a840aef4151a00b9",
       "style": "IPY_MODEL_672a42316e224be89a0a528f8231e3bf",
       "value": "100%"
      }
     },
     "bd36ebef7d444f5880a5f7c618a11cd2": {
      "model_module": "@jupyter-widgets/controls",
      "model_module_version": "2.0.0",
      "model_name": "HTMLModel",
      "state": {
       "layout": "IPY_MODEL_7ecc41b1dd1b4aa5acf4675d0c206949",
       "style": "IPY_MODEL_fa80c8e4725b4295a93c78a7503d9cd6",
       "value": " 1/1 [00:02&lt;00:00,  2.28s/it]"
      }
     },
     "c5ef12662ee24064aaaf9a28b38f493a": {
      "model_module": "@jupyter-widgets/controls",
      "model_module_version": "2.0.0",
      "model_name": "HTMLModel",
      "state": {
       "layout": "IPY_MODEL_15356f9b1e5244fb8ac76dccdcdf2d2e",
       "style": "IPY_MODEL_80ec4fef07d94d3ca1bf032c0a82fbe2",
       "value": "100%"
      }
     },
     "caece52fa0a94bf5b0b546bc89c3227b": {
      "model_module": "@jupyter-widgets/controls",
      "model_module_version": "2.0.0",
      "model_name": "FloatProgressModel",
      "state": {
       "bar_style": "success",
       "layout": "IPY_MODEL_b5fe952d4299415d9f152091260c1e23",
       "max": 20,
       "style": "IPY_MODEL_0f97498a812349f0968dde9879b1699f",
       "value": 20
      }
     },
     "d7a91f82137647c7bf9f25f44a30ce6e": {
      "model_module": "@jupyter-widgets/controls",
      "model_module_version": "2.0.0",
      "model_name": "HTMLStyleModel",
      "state": {
       "description_width": "",
       "font_size": null,
       "text_color": null
      }
     },
     "dc3f9236120444ac98c93a8ad856a51c": {
      "model_module": "@jupyter-widgets/controls",
      "model_module_version": "2.0.0",
      "model_name": "HTMLModel",
      "state": {
       "layout": "IPY_MODEL_964dc0e828934e219b8846c109b4da8b",
       "style": "IPY_MODEL_2b4b06d565124a169931ae790ca418b0",
       "value": "Complete: 100%"
      }
     },
     "de82cb0da42a4de98a00fd08ac90f88e": {
      "model_module": "@jupyter-widgets/base",
      "model_module_version": "2.0.0",
      "model_name": "LayoutModel",
      "state": {}
     },
     "e706a1c9352a4c46939f4061721887d2": {
      "model_module": "@jupyter-widgets/base",
      "model_module_version": "2.0.0",
      "model_name": "LayoutModel",
      "state": {}
     },
     "e7d562c8ccdc4c10b17b0a7398cf1abb": {
      "model_module": "@jupyter-widgets/base",
      "model_module_version": "2.0.0",
      "model_name": "LayoutModel",
      "state": {}
     },
     "fa80c8e4725b4295a93c78a7503d9cd6": {
      "model_module": "@jupyter-widgets/controls",
      "model_module_version": "2.0.0",
      "model_name": "HTMLStyleModel",
      "state": {
       "description_width": "",
       "font_size": null,
       "text_color": null
      }
     }
    },
    "version_major": 2,
    "version_minor": 0
   }
  }
 },
 "nbformat": 4,
 "nbformat_minor": 5
}
